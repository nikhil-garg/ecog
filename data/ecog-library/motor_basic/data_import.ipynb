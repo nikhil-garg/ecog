{
 "metadata": {
  "language_info": {
   "codemirror_mode": {
    "name": "ipython",
    "version": 3
   },
   "file_extension": ".py",
   "mimetype": "text/x-python",
   "name": "python",
   "nbconvert_exporter": "python",
   "pygments_lexer": "ipython3",
   "version": "3.8.5"
  },
  "orig_nbformat": 4,
  "kernelspec": {
   "name": "python3",
   "display_name": "Python 3.8.5 64-bit ('ecog': conda)"
  },
  "interpreter": {
   "hash": "0663cc8a2ebfa104e819d48d008a626a361aa8dd1125e760bdac99877362df7c"
  }
 },
 "nbformat": 4,
 "nbformat_minor": 2,
 "cells": [
  {
   "cell_type": "code",
   "execution_count": 2,
   "metadata": {},
   "outputs": [],
   "source": [
    "import numpy as np \n",
    "import pandas as pd \n",
    "import matplotlib.pyplot as plt \n",
    "import scipy.io as sio\n",
    "pd.pandas.set_option('display.max_columns', None)\n",
    "%matplotlib inline\n",
    "\n",
    "matlab_data={}\n",
    "matlab_train={}\n",
    "matlab_labels={}\n",
    "matlab_locs={}\n",
    "#import pandas_profiling as pdp"
   ]
  },
  {
   "cell_type": "code",
   "execution_count": 3,
   "metadata": {},
   "outputs": [],
   "source": [
    "subjects=['bp',\n",
    "    'ca',\n",
    "    'cc',\n",
    "    'de',\n",
    "    'fp',\n",
    "    'gc',\n",
    "    'gf',\n",
    "    'hh',\n",
    "    'hl',\n",
    "    'jc',\n",
    "    'jf',\n",
    "    'jm',\n",
    "    'jp',\n",
    "    'jt',\n",
    "    'rh',\n",
    "    'rr',\n",
    "    'ug',\n",
    "    'wc',\n",
    "    'zt'\n",
    "]"
   ]
  },
  {
   "cell_type": "code",
   "execution_count": 5,
   "metadata": {},
   "outputs": [],
   "source": [
    "for sub in subjects:\n",
    "  matlab_data[sub]=sio.loadmat('data/'+str(sub)+'_mot_t_h.mat')\n",
    "  matlab_train[sub]=matlab_data[sub]['data']\n",
    "  matlab_labels[sub]=matlab_data[sub]['stim']\n",
    "  matlab_locs[sub]=sio.loadmat('locs/'+str(sub)+'_electrodes.mat')"
   ]
  },
  {
   "cell_type": "code",
   "execution_count": null,
   "metadata": {},
   "outputs": [],
   "source": []
  }
 ]
}