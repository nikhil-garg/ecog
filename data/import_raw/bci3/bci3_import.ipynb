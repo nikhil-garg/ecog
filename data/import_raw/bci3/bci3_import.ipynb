{
 "cells": [
  {
   "cell_type": "code",
   "execution_count": 23,
   "metadata": {},
   "outputs": [],
   "source": [
    "import numpy as np \n",
    "import mne\n",
    "import os\n",
    "from matplotlib import pyplot as plt"
   ]
  },
  {
   "cell_type": "code",
   "execution_count": 24,
   "metadata": {},
   "outputs": [],
   "source": [
    "path=os.path.abspath(os.path.join(os.path.dirname(\" __file__\" ), '../..', 'bci3_npz_raw'))\n",
    "data=np.load(path+\"/\"+\"bci_3.npz\")\n",
    "X=data['X']\n",
    "events_ts=data['events'].squeeze()\n",
    "event_id=dict(finger=-1, tongue=1)\n",
    "n_channels=X.shape[1]\n",
    "s_freq=1000"
   ]
  },
  {
   "cell_type": "code",
   "execution_count": 25,
   "metadata": {},
   "outputs": [
    {
     "name": "stdout",
     "output_type": "stream",
     "text": [
      "<Info | 7 non-empty values\n",
      " bads: []\n",
      " ch_names: 0, 1, 2, 3, 4, 5, 6, 7, 8, 9, 10, 11, 12, 13, 14, 15, 16, 17, ...\n",
      " chs: 64 MISC\n",
      " custom_ref_applied: False\n",
      " highpass: 0.0 Hz\n",
      " lowpass: 500.0 Hz\n",
      " meas_date: unspecified\n",
      " nchan: 64\n",
      " projs: []\n",
      " sfreq: 1000.0 Hz\n",
      ">\n"
     ]
    }
   ],
   "source": [
    "info=mne.create_info(n_channels,sfreq=s_freq)\n",
    "print(info)"
   ]
  },
  {
   "cell_type": "code",
   "execution_count": 26,
   "metadata": {},
   "outputs": [],
   "source": [
    "events_ts_segmented=np.empty((events_ts.shape[0]*3),dtype=int)\n",
    "j=0\n",
    "for i in range(events_ts.shape[0]):\n",
    "    events_ts_segmented[j]=events_ts[i]\n",
    "    events_ts_segmented[j+1]=events_ts[i]\n",
    "    events_ts_segmented[j+2]=events_ts[i]\n",
    "    j=j+3"
   ]
  },
  {
   "cell_type": "code",
   "execution_count": 27,
   "metadata": {},
   "outputs": [],
   "source": [
    "len=events_ts_segmented.shape[0]\n",
    "ev=[i*s_freq*1 for i in range(len)]"
   ]
  },
  {
   "cell_type": "code",
   "execution_count": 28,
   "metadata": {},
   "outputs": [
    {
     "data": {
      "text/plain": [
       "array([[     0,      0,     -1],\n",
       "       [  1000,      0,     -1],\n",
       "       [  2000,      0,     -1],\n",
       "       ...,\n",
       "       [831000,      0,     -1],\n",
       "       [832000,      0,     -1],\n",
       "       [833000,      0,     -1]])"
      ]
     },
     "execution_count": 28,
     "metadata": {},
     "output_type": "execute_result"
    }
   ],
   "source": [
    "events=np.column_stack((np.array(ev),np.zeros(len, dtype=int),np.array(events_ts_segmented)))\n",
    "events"
   ]
  },
  {
   "cell_type": "code",
   "execution_count": 29,
   "metadata": {},
   "outputs": [],
   "source": [
    "j=0\n",
    "X_segmented=np.empty((X.shape[0]*3,64,1000))\n",
    "for i in range(X.shape[0]):\n",
    "    X_segmented[j,:,:]=X[i,:,:1000]\n",
    "    X_segmented[j+1,:,:]=X[i,:,1000:2000]\n",
    "    X_segmented[j+2,:,:]=X[i,:,2000:3000]\n",
    "    j=j+3"
   ]
  },
  {
   "cell_type": "code",
   "execution_count": 30,
   "metadata": {},
   "outputs": [
    {
     "data": {
      "text/plain": [
       "((834, 64, 1000), (834, 3))"
      ]
     },
     "execution_count": 30,
     "metadata": {},
     "output_type": "execute_result"
    }
   ],
   "source": [
    "X_segmented.shape, events.shape"
   ]
  },
  {
   "cell_type": "code",
   "execution_count": 31,
   "metadata": {},
   "outputs": [
    {
     "name": "stdout",
     "output_type": "stream",
     "text": [
      "Not setting metadata\n",
      "Not setting metadata\n",
      "834 matching events found\n",
      "No baseline correction applied\n",
      "0 projection items activated\n",
      "0 bad epochs dropped\n"
     ]
    }
   ],
   "source": [
    "tmin=0\n",
    "epochs=mne.EpochsArray(X_segmented,info,events,tmin,event_id)"
   ]
  },
  {
   "cell_type": "code",
   "execution_count": 10,
   "metadata": {},
   "outputs": [],
   "source": [
    "X=epochs.get_data()\n",
    "y=epochs.events[:, -1]"
   ]
  },
  {
   "cell_type": "code",
   "execution_count": 11,
   "metadata": {},
   "outputs": [],
   "source": [
    "test_data=data['X_test']\n",
    "true_labels=np.loadtxt('true_labels_bci3.txt')"
   ]
  },
  {
   "cell_type": "code",
   "execution_count": 12,
   "metadata": {},
   "outputs": [],
   "source": [
    "j=0\n",
    "test_segmented=np.empty((test_data.shape[0]*3,64,1000))\n",
    "for i in range(test_data.shape[0]):\n",
    "    test_segmented[j,:,:]=test_data[i,:,:1000]\n",
    "    test_segmented[j+1,:,:]=test_data[i,:,1000:2000]\n",
    "    test_segmented[j+2,:,:]=test_data[i,:,2000:3000]\n",
    "    j=j+3"
   ]
  },
  {
   "cell_type": "code",
   "execution_count": 13,
   "metadata": {},
   "outputs": [],
   "source": [
    "true_labels_segmented=np.empty((true_labels.shape[0]*3),dtype=int)\n",
    "j=0\n",
    "for i in range(true_labels.shape[0]):\n",
    "    true_labels_segmented[j]=true_labels[i]\n",
    "    true_labels_segmented[j+1]=true_labels[i]\n",
    "    true_labels_segmented[j+2]=true_labels[i]\n",
    "    j=j+3"
   ]
  },
  {
   "cell_type": "code",
   "execution_count": 15,
   "metadata": {},
   "outputs": [],
   "source": [
    "np.savez_compressed(\"bci3epochs.npz\",X=X,y=y,X_test=test_segmented,y_test=true_labels_segmented)"
   ]
  }
 ],
 "metadata": {
  "interpreter": {
   "hash": "0663cc8a2ebfa104e819d48d008a626a361aa8dd1125e760bdac99877362df7c"
  },
  "kernelspec": {
   "display_name": "Python 3.8.12 64-bit ('ecog': conda)",
   "name": "python3"
  },
  "language_info": {
   "codemirror_mode": {
    "name": "ipython",
    "version": 3
   },
   "file_extension": ".py",
   "mimetype": "text/x-python",
   "name": "python",
   "nbconvert_exporter": "python",
   "pygments_lexer": "ipython3",
   "version": "3.8.12"
  },
  "orig_nbformat": 4
 },
 "nbformat": 4,
 "nbformat_minor": 2
}
