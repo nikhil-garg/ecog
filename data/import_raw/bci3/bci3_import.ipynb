{
 "metadata": {
  "language_info": {
   "name": "python",
   "version": "3.8.12",
   "mimetype": "text/x-python",
   "codemirror_mode": {
    "name": "ipython",
    "version": 3
   },
   "pygments_lexer": "ipython3",
   "nbconvert_exporter": "python",
   "file_extension": ".py"
  },
  "orig_nbformat": 4,
  "kernelspec": {
   "name": "python3",
   "display_name": "Python 3.8.12 64-bit ('ecog': conda)"
  },
  "interpreter": {
   "hash": "0663cc8a2ebfa104e819d48d008a626a361aa8dd1125e760bdac99877362df7c"
  }
 },
 "nbformat": 4,
 "nbformat_minor": 2,
 "cells": [
  {
   "cell_type": "code",
   "execution_count": 1,
   "source": [
    "import numpy as np \r\n",
    "import mne\r\n",
    "import os\r\n",
    "from matplotlib import pyplot as plt\r\n",
    "import tensorflow as tf\r\n",
    "from tensorflow.keras.callbacks import ModelCheckpoint\r\n",
    "from tensorflow.keras import utils as np_utils\r\n",
    "from sklearn.model_selection import train_test_split\r\n",
    "from EEGModels import EEGNet, DeepConvNet\r\n",
    "from htnet_model import htnet"
   ],
   "outputs": [],
   "metadata": {}
  },
  {
   "cell_type": "code",
   "execution_count": 2,
   "source": [
    "tf.config.list_physical_devices(device_type='GPU')"
   ],
   "outputs": [
    {
     "output_type": "execute_result",
     "data": {
      "text/plain": [
       "[PhysicalDevice(name='/physical_device:GPU:0', device_type='GPU')]"
      ]
     },
     "metadata": {},
     "execution_count": 2
    }
   ],
   "metadata": {}
  },
  {
   "cell_type": "code",
   "execution_count": 27,
   "source": [
    "path=os.path.abspath(os.path.join(os.path.dirname(\" __file__\" ), '../..', 'bci3_npz_raw'))\r\n",
    "data=np.load(path+\"/\"+\"bci_3.npz\")\r\n",
    "X=data['X']\r\n",
    "events_ts=data['events'].squeeze()\r\n",
    "event_id=dict(finger=-1, tongue=1)\r\n",
    "n_channels=X.shape[1]\r\n",
    "s_freq=1000"
   ],
   "outputs": [],
   "metadata": {}
  },
  {
   "cell_type": "code",
   "execution_count": 28,
   "source": [
    "info=mne.create_info(n_channels,sfreq=s_freq)\r\n",
    "print(info)"
   ],
   "outputs": [
    {
     "output_type": "stream",
     "name": "stdout",
     "text": [
      "<Info | 7 non-empty values\n",
      " bads: []\n",
      " ch_names: 0, 1, 2, 3, 4, 5, 6, 7, 8, 9, 10, 11, 12, 13, 14, 15, 16, 17, ...\n",
      " chs: 64 MISC\n",
      " custom_ref_applied: False\n",
      " highpass: 0.0 Hz\n",
      " lowpass: 500.0 Hz\n",
      " meas_date: unspecified\n",
      " nchan: 64\n",
      " projs: []\n",
      " sfreq: 1000.0 Hz\n",
      ">\n"
     ]
    }
   ],
   "metadata": {}
  },
  {
   "cell_type": "code",
   "execution_count": 5,
   "source": [
    "events_ts_segmented=np.empty((events_ts.shape[0]*3),dtype=int)\r\n",
    "j=0\r\n",
    "for i in range(events_ts.shape[0]):\r\n",
    "    events_ts_segmented[j]=events_ts[i]\r\n",
    "    events_ts_segmented[j+1]=events_ts[i]\r\n",
    "    events_ts_segmented[j+2]=events_ts[i]\r\n",
    "    j=j+3"
   ],
   "outputs": [],
   "metadata": {}
  },
  {
   "cell_type": "code",
   "execution_count": 6,
   "source": [
    "len=events_ts_segmented.shape[0]\r\n",
    "ev=[i*s_freq*1 for i in range(len)]"
   ],
   "outputs": [],
   "metadata": {}
  },
  {
   "cell_type": "code",
   "execution_count": 7,
   "source": [
    "events=np.column_stack((np.array(ev),np.zeros(len, dtype=int),np.array(events_ts_segmented)))\r\n",
    "events"
   ],
   "outputs": [
    {
     "output_type": "execute_result",
     "data": {
      "text/plain": [
       "array([[     0,      0,     -1],\n",
       "       [  1000,      0,     -1],\n",
       "       [  2000,      0,     -1],\n",
       "       ...,\n",
       "       [831000,      0,     -1],\n",
       "       [832000,      0,     -1],\n",
       "       [833000,      0,     -1]])"
      ]
     },
     "metadata": {},
     "execution_count": 7
    }
   ],
   "metadata": {}
  },
  {
   "cell_type": "code",
   "execution_count": 8,
   "source": [
    "j=0\r\n",
    "X_segmented=np.empty((X.shape[0]*3,64,1000))\r\n",
    "for i in range(X.shape[0]):\r\n",
    "    X_segmented[j,:,:]=X[i,:,:1000]\r\n",
    "    X_segmented[j+1,:,:]=X[i,:,1000:2000]\r\n",
    "    X_segmented[j+2,:,:]=X[i,:,2000:3000]\r\n",
    "    j=j+3"
   ],
   "outputs": [],
   "metadata": {}
  },
  {
   "cell_type": "code",
   "execution_count": 9,
   "source": [
    "X_segmented.shape, events.shape"
   ],
   "outputs": [
    {
     "output_type": "execute_result",
     "data": {
      "text/plain": [
       "((834, 64, 1000), (834, 3))"
      ]
     },
     "metadata": {},
     "execution_count": 9
    }
   ],
   "metadata": {}
  },
  {
   "cell_type": "code",
   "execution_count": 10,
   "source": [
    "tmin=0\r\n",
    "epochs=mne.EpochsArray(X_segmented,info,events,tmin,event_id)"
   ],
   "outputs": [],
   "metadata": {}
  },
  {
   "cell_type": "code",
   "execution_count": 20,
   "source": [
    "X=epochs.get_data()\r\n",
    "y=epochs.events[:, -1]"
   ],
   "outputs": [],
   "metadata": {}
  },
  {
   "cell_type": "code",
   "execution_count": 13,
   "source": [
    "test_data=data['X_test']\r\n",
    "true_labels=np.loadtxt('true_labels_bci3.txt')"
   ],
   "outputs": [],
   "metadata": {}
  },
  {
   "cell_type": "code",
   "execution_count": 14,
   "source": [
    "j=0\r\n",
    "test_segmented=np.empty((test_data.shape[0]*3,64,1000))\r\n",
    "for i in range(test_data.shape[0]):\r\n",
    "    test_segmented[j,:,:]=test_data[i,:,:1000]\r\n",
    "    test_segmented[j+1,:,:]=test_data[i,:,1000:2000]\r\n",
    "    test_segmented[j+2,:,:]=test_data[i,:,2000:3000]\r\n",
    "    j=j+3"
   ],
   "outputs": [],
   "metadata": {}
  },
  {
   "cell_type": "code",
   "execution_count": 18,
   "source": [
    "true_labels_segmented=np.empty((true_labels.shape[0]*3),dtype=int)\r\n",
    "j=0\r\n",
    "for i in range(true_labels.shape[0]):\r\n",
    "    true_labels_segmented[j]=true_labels[i]\r\n",
    "    true_labels_segmented[j+1]=true_labels[i]\r\n",
    "    true_labels_segmented[j+2]=true_labels[i]\r\n",
    "    j=j+3"
   ],
   "outputs": [],
   "metadata": {}
  },
  {
   "cell_type": "code",
   "execution_count": 15,
   "source": [
    "np.savez_compressed(\"bci3epochs.npz\",X=X,y=y,X_test=test_segmented,y_test=true_labels_segmented)"
   ],
   "outputs": [],
   "metadata": {}
  }
 ]
}