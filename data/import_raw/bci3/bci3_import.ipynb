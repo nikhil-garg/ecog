{
 "metadata": {
  "language_info": {
   "codemirror_mode": {
    "name": "ipython",
    "version": 3
   },
   "file_extension": ".py",
   "mimetype": "text/x-python",
   "name": "python",
   "nbconvert_exporter": "python",
   "pygments_lexer": "ipython3",
   "version": "3.8.10"
  },
  "orig_nbformat": 4,
  "kernelspec": {
   "name": "python3",
   "display_name": "Python 3.8.10 64-bit ('ecog': conda)"
  },
  "interpreter": {
   "hash": "0663cc8a2ebfa104e819d48d008a626a361aa8dd1125e760bdac99877362df7c"
  }
 },
 "nbformat": 4,
 "nbformat_minor": 2,
 "cells": [
  {
   "cell_type": "code",
   "execution_count": 2,
   "source": [
    "import numpy as np \r\n",
    "import mne\r\n",
    "import os\r\n",
    "from scipy import signal\r\n",
    "from matplotlib import pyplot as plt\r\n",
    "import tensorflow as tf\r\n",
    "from tensorflow.keras.callbacks import ModelCheckpoint, LearningRateScheduler\r\n",
    "from tensorflow.keras import utils as np_utils\r\n",
    "from sklearn.model_selection import train_test_split\r\n",
    "from EEGModels import EEGNet, DeepConvNet\r\n",
    "from htnet_model import htnet\r\n",
    "import autokeras as ak"
   ],
   "outputs": [],
   "metadata": {}
  },
  {
   "cell_type": "code",
   "execution_count": 6,
   "source": [
    "path=os.path.abspath(os.path.join(os.path.dirname(\" __file__\" ), '../..', 'bci3_npz'))\r\n",
    "data=np.load(path+\"/\"+\"bci_3.npz\")\r\n",
    "X=data['X']\r\n",
    "events_ts=data['events'].squeeze()\r\n",
    "event_id=dict(finger=-1, tongue=1)\r\n",
    "n_channels=X.shape[1]\r\n",
    "s_freq=1000"
   ],
   "outputs": [],
   "metadata": {}
  },
  {
   "cell_type": "code",
   "execution_count": 7,
   "source": [
    "info=mne.create_info(n_channels,sfreq=s_freq)\r\n",
    "print(info)"
   ],
   "outputs": [
    {
     "output_type": "stream",
     "name": "stdout",
     "text": [
      "<Info | 7 non-empty values\n",
      " bads: []\n",
      " ch_names: 0, 1, 2, 3, 4, 5, 6, 7, 8, 9, 10, 11, 12, 13, 14, 15, 16, 17, ...\n",
      " chs: 64 MISC\n",
      " custom_ref_applied: False\n",
      " highpass: 0.0 Hz\n",
      " lowpass: 500.0 Hz\n",
      " meas_date: unspecified\n",
      " nchan: 64\n",
      " projs: []\n",
      " sfreq: 1000.0 Hz\n",
      ">\n"
     ]
    }
   ],
   "metadata": {}
  },
  {
   "cell_type": "code",
   "execution_count": 8,
   "source": [
    "events_ts_segmented=np.empty((events_ts.shape[0]*3),dtype=int)\r\n",
    "j=0\r\n",
    "for i in range(events_ts.shape[0]):\r\n",
    "    events_ts_segmented[j]=events_ts[i]\r\n",
    "    events_ts_segmented[j+1]=events_ts[i]\r\n",
    "    events_ts_segmented[j+2]=events_ts[i]\r\n",
    "    j=j+3"
   ],
   "outputs": [],
   "metadata": {}
  },
  {
   "cell_type": "code",
   "execution_count": 9,
   "source": [
    "len=events_ts_segmented.shape[0]\r\n",
    "ev=[i*s_freq*1 for i in range(len)]"
   ],
   "outputs": [],
   "metadata": {}
  },
  {
   "cell_type": "code",
   "execution_count": 10,
   "source": [
    "events=np.column_stack((np.array(ev),np.zeros(len, dtype=int),np.array(events_ts_segmented)))\r\n",
    "events"
   ],
   "outputs": [
    {
     "output_type": "execute_result",
     "data": {
      "text/plain": [
       "array([[     0,      0,     -1],\n",
       "       [  1000,      0,     -1],\n",
       "       [  2000,      0,     -1],\n",
       "       ...,\n",
       "       [831000,      0,     -1],\n",
       "       [832000,      0,     -1],\n",
       "       [833000,      0,     -1]])"
      ]
     },
     "metadata": {},
     "execution_count": 10
    }
   ],
   "metadata": {}
  },
  {
   "cell_type": "code",
   "execution_count": 11,
   "source": [
    "j=0\r\n",
    "X_segmented=np.empty((X.shape[0]*3,64,1000))\r\n",
    "for i in range(X.shape[0]):\r\n",
    "    X_segmented[j,:,:]=X[i,:,:1000]\r\n",
    "    X_segmented[j+1,:,:]=X[i,:,1000:2000]\r\n",
    "    X_segmented[j+2,:,:]=X[i,:,2000:3000]\r\n",
    "    j=j+3"
   ],
   "outputs": [],
   "metadata": {}
  },
  {
   "cell_type": "code",
   "execution_count": 12,
   "source": [
    "X_segmented.shape, events.shape\r\n"
   ],
   "outputs": [
    {
     "output_type": "execute_result",
     "data": {
      "text/plain": [
       "((834, 64, 1000), (834, 3))"
      ]
     },
     "metadata": {},
     "execution_count": 12
    }
   ],
   "metadata": {}
  },
  {
   "cell_type": "code",
   "execution_count": 13,
   "source": [
    "tmin=0\r\n",
    "epochs=mne.EpochsArray(X_segmented,info,events,tmin,event_id)"
   ],
   "outputs": [],
   "metadata": {}
  },
  {
   "cell_type": "code",
   "execution_count": 14,
   "source": [
    "X=epochs.get_data()\r\n",
    "y=epochs.events[:, -1]"
   ],
   "outputs": [],
   "metadata": {}
  },
  {
   "cell_type": "code",
   "execution_count": 15,
   "source": [
    "test_data=data['X_test']\r\n",
    "true_labels=np.loadtxt('true_labels_bci3.txt')"
   ],
   "outputs": [],
   "metadata": {}
  },
  {
   "cell_type": "code",
   "execution_count": 16,
   "source": [
    "j=0\r\n",
    "test_segmented=np.empty((test_data.shape[0]*3,64,1000))\r\n",
    "for i in range(test_data.shape[0]):\r\n",
    "    test_segmented[j,:,:]=test_data[i,:,:1000]\r\n",
    "    test_segmented[j+1,:,:]=test_data[i,:,1000:2000]\r\n",
    "    test_segmented[j+2,:,:]=test_data[i,:,2000:3000]\r\n",
    "    j=j+3"
   ],
   "outputs": [],
   "metadata": {}
  },
  {
   "cell_type": "code",
   "execution_count": 17,
   "source": [
    "true_labels_segmented=np.empty((true_labels.shape[0]*3),dtype=int)\r\n",
    "j=0\r\n",
    "for i in range(true_labels.shape[0]):\r\n",
    "    true_labels_segmented[j]=true_labels[i]\r\n",
    "    true_labels_segmented[j+1]=true_labels[i]\r\n",
    "    true_labels_segmented[j+2]=true_labels[i]\r\n",
    "    j=j+3"
   ],
   "outputs": [],
   "metadata": {}
  },
  {
   "cell_type": "code",
   "execution_count": 18,
   "source": [
    "np.savez_compressed(\"bci3epochs.npz\",X=X,y=y,X_test=test_segmented,y_test=true_labels_segmented)"
   ],
   "outputs": [],
   "metadata": {}
  },
  {
   "cell_type": "code",
   "execution_count": 19,
   "source": [
    "X.shape, y.shape"
   ],
   "outputs": [
    {
     "output_type": "execute_result",
     "data": {
      "text/plain": [
       "((834, 64, 1000), (834,))"
      ]
     },
     "metadata": {},
     "execution_count": 19
    }
   ],
   "metadata": {}
  },
  {
   "cell_type": "code",
   "execution_count": 238,
   "source": [
    "# X_train      = X[0:139,]\r\n",
    "# Y_train      = y[0:139]\r\n",
    "# X_validate   = X[139:208,]\r\n",
    "# Y_validate   = y[139:208]\r\n",
    "# X_test       = X[208:,]\r\n",
    "# Y_test       = y[208:]\r\n",
    "\r\n",
    "X_train, X_validate, Y_train, Y_validate=train_test_split(X,y,test_size=0.2,random_state=42)"
   ],
   "outputs": [],
   "metadata": {}
  },
  {
   "cell_type": "code",
   "execution_count": 239,
   "source": [
    "kernels, chans, samples = 1, 64, 250\r\n",
    "\r\n",
    "Y_train      = np_utils.to_categorical((Y_train+1)/2)\r\n",
    "Y_validate   = np_utils.to_categorical((Y_validate+1)/2)\r\n",
    "\r\n",
    "# convert data to NHWC (trials, channels, samples, kernels) format.\r\n",
    "X_train      = X_train.reshape(X_train.shape[0], chans, samples,kernels)\r\n",
    "X_validate   = X_validate.reshape(X_validate.shape[0], chans, samples, kernels)"
   ],
   "outputs": [],
   "metadata": {}
  },
  {
   "cell_type": "code",
   "execution_count": 240,
   "source": [
    "print(Y_train.sum(axis=0),Y_validate.sum(axis=0))"
   ],
   "outputs": [
    {
     "output_type": "stream",
     "name": "stdout",
     "text": [
      "[336. 331.] [81. 86.]\n"
     ]
    }
   ],
   "metadata": {}
  },
  {
   "cell_type": "code",
   "execution_count": 241,
   "source": [
    "initial_learning_rate = 0.01\r\n",
    "epochs = 100\r\n",
    "decay = initial_learning_rate / epochs\r\n",
    "def lr_time_based_decay(epoch, lr):\r\n",
    "    return lr * 1 / (1 + decay * epoch)"
   ],
   "outputs": [],
   "metadata": {}
  },
  {
   "cell_type": "code",
   "execution_count": 242,
   "source": [
    "# configure the EEGNet-8,2,16 model with kernel length of 32 samples (other \r\n",
    "# model configurations may do better, but this is a good starting point)\r\n",
    "model = EEGNet(nb_classes = 2, Chans = chans, Samples = samples, dropoutRate = 0.5, kernLength = 32, F1 = 8, D = 2, F2 = 16, dropoutType = 'Dropout')\r\n",
    "# model= DeepConvNet(nb_classes=2, Chans = chans, Samples = samples,dropoutRate = 0.3)\r\n",
    "# model = htnet(nb_classes = 2, Chans = chans, Samples = samples, dropoutRate = 0.5, kernLength = 64, F1 = 8, D = 2, F2 = 16, dropoutType = 'Dropout')\r\n",
    "\r\n",
    "\r\n",
    "# compile the model and set the optimizers\r\n",
    "optimizer = tf.keras.optimizers.Adam(lr=0.005)\r\n",
    "model.compile(loss='binary_crossentropy', optimizer=optimizer, metrics = ['accuracy'])\r\n",
    "\r\n",
    "checkpointer = ModelCheckpoint(filepath='checkpoint.h5', verbose=1,save_best_only=True)\r\n",
    "\r\n",
    "\r\n",
    "fittedModel = model.fit(X_train, Y_train, batch_size = 16, epochs = 100, verbose = 2, validation_data=(X_validate, Y_validate),callbacks=[checkpointer])"
   ],
   "outputs": [
    {
     "output_type": "stream",
     "name": "stdout",
     "text": [
      "Epoch 1/100\n",
      "\n",
      "Epoch 00001: val_loss improved from inf to 0.61209, saving model to checkpoint.h5\n",
      "42/42 - 5s - loss: 0.6546 - accuracy: 0.6042 - val_loss: 0.6121 - val_accuracy: 0.6048\n",
      "Epoch 2/100\n",
      "\n",
      "Epoch 00002: val_loss improved from 0.61209 to 0.61194, saving model to checkpoint.h5\n",
      "42/42 - 5s - loss: 0.5232 - accuracy: 0.7391 - val_loss: 0.6119 - val_accuracy: 0.6707\n",
      "Epoch 3/100\n",
      "\n",
      "Epoch 00003: val_loss did not improve from 0.61194\n",
      "42/42 - 5s - loss: 0.4905 - accuracy: 0.7646 - val_loss: 0.6440 - val_accuracy: 0.6587\n",
      "Epoch 4/100\n",
      "\n",
      "Epoch 00004: val_loss improved from 0.61194 to 0.54282, saving model to checkpoint.h5\n",
      "42/42 - 5s - loss: 0.5111 - accuracy: 0.7376 - val_loss: 0.5428 - val_accuracy: 0.6467\n",
      "Epoch 5/100\n",
      "\n",
      "Epoch 00005: val_loss improved from 0.54282 to 0.50460, saving model to checkpoint.h5\n",
      "42/42 - 5s - loss: 0.4626 - accuracy: 0.7886 - val_loss: 0.5046 - val_accuracy: 0.7246\n",
      "Epoch 6/100\n",
      "\n",
      "Epoch 00006: val_loss did not improve from 0.50460\n",
      "42/42 - 5s - loss: 0.4452 - accuracy: 0.7796 - val_loss: 0.5244 - val_accuracy: 0.7246\n",
      "Epoch 7/100\n",
      "\n",
      "Epoch 00007: val_loss did not improve from 0.50460\n",
      "42/42 - 5s - loss: 0.4493 - accuracy: 0.7916 - val_loss: 0.5536 - val_accuracy: 0.7066\n",
      "Epoch 8/100\n",
      "\n",
      "Epoch 00008: val_loss did not improve from 0.50460\n",
      "42/42 - 5s - loss: 0.4284 - accuracy: 0.7946 - val_loss: 0.5252 - val_accuracy: 0.7425\n",
      "Epoch 9/100\n",
      "\n",
      "Epoch 00009: val_loss improved from 0.50460 to 0.49216, saving model to checkpoint.h5\n",
      "42/42 - 5s - loss: 0.4133 - accuracy: 0.8171 - val_loss: 0.4922 - val_accuracy: 0.7365\n",
      "Epoch 10/100\n",
      "\n",
      "Epoch 00010: val_loss did not improve from 0.49216\n",
      "42/42 - 5s - loss: 0.4173 - accuracy: 0.8156 - val_loss: 0.5053 - val_accuracy: 0.7365\n",
      "Epoch 11/100\n",
      "\n",
      "Epoch 00011: val_loss did not improve from 0.49216\n",
      "42/42 - 5s - loss: 0.4135 - accuracy: 0.8096 - val_loss: 0.5398 - val_accuracy: 0.7246\n",
      "Epoch 12/100\n",
      "\n",
      "Epoch 00012: val_loss improved from 0.49216 to 0.48581, saving model to checkpoint.h5\n",
      "42/42 - 5s - loss: 0.4071 - accuracy: 0.8096 - val_loss: 0.4858 - val_accuracy: 0.7605\n",
      "Epoch 13/100\n",
      "\n",
      "Epoch 00013: val_loss did not improve from 0.48581\n",
      "42/42 - 5s - loss: 0.3696 - accuracy: 0.8246 - val_loss: 0.5372 - val_accuracy: 0.7485\n",
      "Epoch 14/100\n",
      "\n",
      "Epoch 00014: val_loss did not improve from 0.48581\n",
      "42/42 - 5s - loss: 0.3999 - accuracy: 0.8156 - val_loss: 0.5056 - val_accuracy: 0.7305\n",
      "Epoch 15/100\n",
      "\n",
      "Epoch 00015: val_loss did not improve from 0.48581\n",
      "42/42 - 5s - loss: 0.3736 - accuracy: 0.8381 - val_loss: 0.4865 - val_accuracy: 0.7485\n",
      "Epoch 16/100\n",
      "\n",
      "Epoch 00016: val_loss did not improve from 0.48581\n",
      "42/42 - 5s - loss: 0.3953 - accuracy: 0.8261 - val_loss: 0.5374 - val_accuracy: 0.7246\n",
      "Epoch 17/100\n",
      "\n",
      "Epoch 00017: val_loss did not improve from 0.48581\n",
      "42/42 - 5s - loss: 0.3675 - accuracy: 0.8441 - val_loss: 0.5070 - val_accuracy: 0.7485\n",
      "Epoch 18/100\n",
      "\n",
      "Epoch 00018: val_loss improved from 0.48581 to 0.43598, saving model to checkpoint.h5\n",
      "42/42 - 5s - loss: 0.3790 - accuracy: 0.8141 - val_loss: 0.4360 - val_accuracy: 0.7725\n",
      "Epoch 19/100\n",
      "\n",
      "Epoch 00019: val_loss improved from 0.43598 to 0.43501, saving model to checkpoint.h5\n",
      "42/42 - 5s - loss: 0.3503 - accuracy: 0.8456 - val_loss: 0.4350 - val_accuracy: 0.7784\n",
      "Epoch 20/100\n",
      "\n",
      "Epoch 00020: val_loss did not improve from 0.43501\n",
      "42/42 - 5s - loss: 0.3754 - accuracy: 0.8471 - val_loss: 0.4759 - val_accuracy: 0.7365\n",
      "Epoch 21/100\n",
      "\n",
      "Epoch 00021: val_loss did not improve from 0.43501\n",
      "42/42 - 5s - loss: 0.3994 - accuracy: 0.8231 - val_loss: 0.4580 - val_accuracy: 0.7605\n",
      "Epoch 22/100\n",
      "\n",
      "Epoch 00022: val_loss did not improve from 0.43501\n",
      "42/42 - 5s - loss: 0.3473 - accuracy: 0.8291 - val_loss: 0.4389 - val_accuracy: 0.7844\n",
      "Epoch 23/100\n",
      "\n",
      "Epoch 00023: val_loss did not improve from 0.43501\n",
      "42/42 - 5s - loss: 0.3381 - accuracy: 0.8396 - val_loss: 0.5020 - val_accuracy: 0.7305\n",
      "Epoch 24/100\n",
      "\n",
      "Epoch 00024: val_loss did not improve from 0.43501\n",
      "42/42 - 5s - loss: 0.3651 - accuracy: 0.8411 - val_loss: 0.4480 - val_accuracy: 0.7904\n",
      "Epoch 25/100\n",
      "\n",
      "Epoch 00025: val_loss did not improve from 0.43501\n",
      "42/42 - 5s - loss: 0.3859 - accuracy: 0.8216 - val_loss: 0.4391 - val_accuracy: 0.7605\n",
      "Epoch 26/100\n",
      "\n",
      "Epoch 00026: val_loss did not improve from 0.43501\n",
      "42/42 - 5s - loss: 0.3740 - accuracy: 0.8246 - val_loss: 0.4762 - val_accuracy: 0.7904\n",
      "Epoch 27/100\n",
      "\n",
      "Epoch 00027: val_loss did not improve from 0.43501\n",
      "42/42 - 5s - loss: 0.3218 - accuracy: 0.8621 - val_loss: 0.4685 - val_accuracy: 0.7605\n",
      "Epoch 28/100\n",
      "\n",
      "Epoch 00028: val_loss did not improve from 0.43501\n",
      "42/42 - 5s - loss: 0.3462 - accuracy: 0.8486 - val_loss: 0.4502 - val_accuracy: 0.8024\n",
      "Epoch 29/100\n",
      "\n",
      "Epoch 00029: val_loss did not improve from 0.43501\n",
      "42/42 - 5s - loss: 0.3336 - accuracy: 0.8501 - val_loss: 0.4393 - val_accuracy: 0.7844\n",
      "Epoch 30/100\n",
      "\n",
      "Epoch 00030: val_loss did not improve from 0.43501\n",
      "42/42 - 5s - loss: 0.3425 - accuracy: 0.8531 - val_loss: 0.5839 - val_accuracy: 0.7605\n",
      "Epoch 31/100\n",
      "\n",
      "Epoch 00031: val_loss did not improve from 0.43501\n",
      "42/42 - 5s - loss: 0.3117 - accuracy: 0.8651 - val_loss: 0.4427 - val_accuracy: 0.7725\n",
      "Epoch 32/100\n",
      "\n",
      "Epoch 00032: val_loss did not improve from 0.43501\n",
      "42/42 - 5s - loss: 0.3258 - accuracy: 0.8516 - val_loss: 0.4586 - val_accuracy: 0.7485\n",
      "Epoch 33/100\n",
      "\n",
      "Epoch 00033: val_loss did not improve from 0.43501\n",
      "42/42 - 5s - loss: 0.3196 - accuracy: 0.8456 - val_loss: 0.5205 - val_accuracy: 0.7725\n",
      "Epoch 34/100\n",
      "\n",
      "Epoch 00034: val_loss did not improve from 0.43501\n",
      "42/42 - 5s - loss: 0.3218 - accuracy: 0.8606 - val_loss: 0.4387 - val_accuracy: 0.8084\n",
      "Epoch 35/100\n",
      "\n",
      "Epoch 00035: val_loss did not improve from 0.43501\n",
      "42/42 - 5s - loss: 0.3365 - accuracy: 0.8711 - val_loss: 0.4562 - val_accuracy: 0.7844\n",
      "Epoch 36/100\n",
      "\n",
      "Epoch 00036: val_loss did not improve from 0.43501\n",
      "42/42 - 5s - loss: 0.3200 - accuracy: 0.8606 - val_loss: 0.5607 - val_accuracy: 0.7425\n",
      "Epoch 37/100\n",
      "\n",
      "Epoch 00037: val_loss did not improve from 0.43501\n",
      "42/42 - 5s - loss: 0.3188 - accuracy: 0.8471 - val_loss: 0.4734 - val_accuracy: 0.7904\n",
      "Epoch 38/100\n",
      "\n",
      "Epoch 00038: val_loss improved from 0.43501 to 0.43162, saving model to checkpoint.h5\n",
      "42/42 - 5s - loss: 0.3182 - accuracy: 0.8621 - val_loss: 0.4316 - val_accuracy: 0.8024\n",
      "Epoch 39/100\n",
      "\n",
      "Epoch 00039: val_loss did not improve from 0.43162\n",
      "42/42 - 5s - loss: 0.3080 - accuracy: 0.8741 - val_loss: 0.4441 - val_accuracy: 0.8024\n",
      "Epoch 40/100\n",
      "\n",
      "Epoch 00040: val_loss did not improve from 0.43162\n",
      "42/42 - 5s - loss: 0.2913 - accuracy: 0.8711 - val_loss: 0.4557 - val_accuracy: 0.7665\n",
      "Epoch 41/100\n",
      "\n",
      "Epoch 00041: val_loss did not improve from 0.43162\n",
      "42/42 - 5s - loss: 0.3403 - accuracy: 0.8621 - val_loss: 0.4677 - val_accuracy: 0.7605\n",
      "Epoch 42/100\n",
      "\n",
      "Epoch 00042: val_loss did not improve from 0.43162\n",
      "42/42 - 5s - loss: 0.3357 - accuracy: 0.8501 - val_loss: 0.4539 - val_accuracy: 0.7964\n",
      "Epoch 43/100\n",
      "\n",
      "Epoch 00043: val_loss did not improve from 0.43162\n",
      "42/42 - 5s - loss: 0.3429 - accuracy: 0.8561 - val_loss: 0.4910 - val_accuracy: 0.7605\n",
      "Epoch 44/100\n",
      "\n",
      "Epoch 00044: val_loss did not improve from 0.43162\n",
      "42/42 - 5s - loss: 0.3406 - accuracy: 0.8381 - val_loss: 0.5015 - val_accuracy: 0.7725\n",
      "Epoch 45/100\n",
      "\n",
      "Epoch 00045: val_loss did not improve from 0.43162\n",
      "42/42 - 5s - loss: 0.3277 - accuracy: 0.8501 - val_loss: 0.4796 - val_accuracy: 0.7305\n",
      "Epoch 46/100\n",
      "\n",
      "Epoch 00046: val_loss did not improve from 0.43162\n",
      "42/42 - 5s - loss: 0.3081 - accuracy: 0.8696 - val_loss: 0.4625 - val_accuracy: 0.7545\n",
      "Epoch 47/100\n",
      "\n",
      "Epoch 00047: val_loss did not improve from 0.43162\n",
      "42/42 - 5s - loss: 0.3276 - accuracy: 0.8621 - val_loss: 0.4622 - val_accuracy: 0.7784\n",
      "Epoch 48/100\n",
      "\n",
      "Epoch 00048: val_loss did not improve from 0.43162\n",
      "42/42 - 5s - loss: 0.2894 - accuracy: 0.8726 - val_loss: 0.4319 - val_accuracy: 0.7904\n",
      "Epoch 49/100\n",
      "\n",
      "Epoch 00049: val_loss did not improve from 0.43162\n",
      "42/42 - 5s - loss: 0.2949 - accuracy: 0.8741 - val_loss: 0.4432 - val_accuracy: 0.7665\n",
      "Epoch 50/100\n",
      "\n",
      "Epoch 00050: val_loss improved from 0.43162 to 0.39421, saving model to checkpoint.h5\n",
      "42/42 - 5s - loss: 0.2803 - accuracy: 0.8816 - val_loss: 0.3942 - val_accuracy: 0.8024\n",
      "Epoch 51/100\n",
      "\n",
      "Epoch 00051: val_loss did not improve from 0.39421\n",
      "42/42 - 5s - loss: 0.2632 - accuracy: 0.8846 - val_loss: 0.4557 - val_accuracy: 0.7784\n",
      "Epoch 52/100\n",
      "\n",
      "Epoch 00052: val_loss did not improve from 0.39421\n",
      "42/42 - 5s - loss: 0.3202 - accuracy: 0.8741 - val_loss: 0.4388 - val_accuracy: 0.7725\n",
      "Epoch 53/100\n",
      "\n",
      "Epoch 00053: val_loss did not improve from 0.39421\n",
      "42/42 - 5s - loss: 0.3203 - accuracy: 0.8636 - val_loss: 0.5422 - val_accuracy: 0.7665\n",
      "Epoch 54/100\n",
      "\n",
      "Epoch 00054: val_loss did not improve from 0.39421\n",
      "42/42 - 5s - loss: 0.2655 - accuracy: 0.8921 - val_loss: 0.4614 - val_accuracy: 0.7725\n",
      "Epoch 55/100\n",
      "\n",
      "Epoch 00055: val_loss did not improve from 0.39421\n",
      "42/42 - 5s - loss: 0.2976 - accuracy: 0.8741 - val_loss: 0.4538 - val_accuracy: 0.7485\n",
      "Epoch 56/100\n",
      "\n",
      "Epoch 00056: val_loss did not improve from 0.39421\n",
      "42/42 - 5s - loss: 0.2548 - accuracy: 0.9040 - val_loss: 0.5093 - val_accuracy: 0.7904\n",
      "Epoch 57/100\n",
      "\n",
      "Epoch 00057: val_loss did not improve from 0.39421\n",
      "42/42 - 5s - loss: 0.3416 - accuracy: 0.8546 - val_loss: 0.4520 - val_accuracy: 0.7964\n",
      "Epoch 58/100\n",
      "\n",
      "Epoch 00058: val_loss did not improve from 0.39421\n",
      "42/42 - 5s - loss: 0.3061 - accuracy: 0.8621 - val_loss: 0.5474 - val_accuracy: 0.7365\n",
      "Epoch 59/100\n",
      "\n",
      "Epoch 00059: val_loss did not improve from 0.39421\n",
      "42/42 - 5s - loss: 0.2901 - accuracy: 0.8741 - val_loss: 0.4788 - val_accuracy: 0.7904\n",
      "Epoch 60/100\n",
      "\n",
      "Epoch 00060: val_loss did not improve from 0.39421\n",
      "42/42 - 5s - loss: 0.2914 - accuracy: 0.8756 - val_loss: 0.5446 - val_accuracy: 0.7186\n",
      "Epoch 61/100\n",
      "\n",
      "Epoch 00061: val_loss did not improve from 0.39421\n",
      "42/42 - 5s - loss: 0.3061 - accuracy: 0.8681 - val_loss: 0.6199 - val_accuracy: 0.7305\n",
      "Epoch 62/100\n",
      "\n",
      "Epoch 00062: val_loss did not improve from 0.39421\n",
      "42/42 - 5s - loss: 0.3288 - accuracy: 0.8531 - val_loss: 0.5183 - val_accuracy: 0.7964\n",
      "Epoch 63/100\n",
      "\n",
      "Epoch 00063: val_loss did not improve from 0.39421\n",
      "42/42 - 5s - loss: 0.3383 - accuracy: 0.8666 - val_loss: 0.5225 - val_accuracy: 0.7425\n",
      "Epoch 64/100\n",
      "\n",
      "Epoch 00064: val_loss did not improve from 0.39421\n",
      "42/42 - 5s - loss: 0.2663 - accuracy: 0.8921 - val_loss: 0.5084 - val_accuracy: 0.7725\n",
      "Epoch 65/100\n",
      "\n",
      "Epoch 00065: val_loss did not improve from 0.39421\n",
      "42/42 - 5s - loss: 0.2418 - accuracy: 0.8981 - val_loss: 0.4866 - val_accuracy: 0.7784\n",
      "Epoch 66/100\n",
      "\n",
      "Epoch 00066: val_loss did not improve from 0.39421\n",
      "42/42 - 5s - loss: 0.3252 - accuracy: 0.8696 - val_loss: 0.5568 - val_accuracy: 0.7186\n",
      "Epoch 67/100\n",
      "\n",
      "Epoch 00067: val_loss did not improve from 0.39421\n",
      "42/42 - 5s - loss: 0.2869 - accuracy: 0.8756 - val_loss: 0.5230 - val_accuracy: 0.7186\n",
      "Epoch 68/100\n",
      "\n",
      "Epoch 00068: val_loss did not improve from 0.39421\n",
      "42/42 - 5s - loss: 0.2539 - accuracy: 0.8996 - val_loss: 0.5202 - val_accuracy: 0.7964\n",
      "Epoch 69/100\n",
      "\n",
      "Epoch 00069: val_loss did not improve from 0.39421\n",
      "42/42 - 5s - loss: 0.2768 - accuracy: 0.8876 - val_loss: 0.4976 - val_accuracy: 0.7665\n",
      "Epoch 70/100\n",
      "\n",
      "Epoch 00070: val_loss did not improve from 0.39421\n",
      "42/42 - 5s - loss: 0.3010 - accuracy: 0.8801 - val_loss: 0.5429 - val_accuracy: 0.7784\n",
      "Epoch 71/100\n",
      "\n",
      "Epoch 00071: val_loss did not improve from 0.39421\n",
      "42/42 - 5s - loss: 0.2824 - accuracy: 0.8816 - val_loss: 0.5457 - val_accuracy: 0.7485\n",
      "Epoch 72/100\n",
      "\n",
      "Epoch 00072: val_loss did not improve from 0.39421\n",
      "42/42 - 5s - loss: 0.2830 - accuracy: 0.8771 - val_loss: 0.4361 - val_accuracy: 0.7725\n",
      "Epoch 73/100\n",
      "\n",
      "Epoch 00073: val_loss did not improve from 0.39421\n",
      "42/42 - 5s - loss: 0.2884 - accuracy: 0.8861 - val_loss: 0.4582 - val_accuracy: 0.7784\n",
      "Epoch 74/100\n",
      "\n",
      "Epoch 00074: val_loss did not improve from 0.39421\n",
      "42/42 - 5s - loss: 0.2576 - accuracy: 0.8816 - val_loss: 0.5413 - val_accuracy: 0.7605\n",
      "Epoch 75/100\n",
      "\n",
      "Epoch 00075: val_loss did not improve from 0.39421\n",
      "42/42 - 5s - loss: 0.2607 - accuracy: 0.8966 - val_loss: 0.5628 - val_accuracy: 0.7305\n",
      "Epoch 76/100\n",
      "\n",
      "Epoch 00076: val_loss did not improve from 0.39421\n",
      "42/42 - 5s - loss: 0.2805 - accuracy: 0.8831 - val_loss: 0.4512 - val_accuracy: 0.7904\n",
      "Epoch 77/100\n",
      "\n",
      "Epoch 00077: val_loss did not improve from 0.39421\n",
      "42/42 - 5s - loss: 0.2773 - accuracy: 0.8876 - val_loss: 0.5113 - val_accuracy: 0.7485\n",
      "Epoch 78/100\n",
      "\n",
      "Epoch 00078: val_loss did not improve from 0.39421\n",
      "42/42 - 5s - loss: 0.2718 - accuracy: 0.8891 - val_loss: 0.5144 - val_accuracy: 0.7545\n",
      "Epoch 79/100\n",
      "\n",
      "Epoch 00079: val_loss did not improve from 0.39421\n",
      "42/42 - 5s - loss: 0.2435 - accuracy: 0.9010 - val_loss: 0.6487 - val_accuracy: 0.7365\n",
      "Epoch 80/100\n",
      "\n",
      "Epoch 00080: val_loss did not improve from 0.39421\n",
      "42/42 - 5s - loss: 0.2716 - accuracy: 0.8936 - val_loss: 0.6362 - val_accuracy: 0.7904\n",
      "Epoch 81/100\n",
      "\n",
      "Epoch 00081: val_loss did not improve from 0.39421\n",
      "42/42 - 5s - loss: 0.3094 - accuracy: 0.8681 - val_loss: 0.5008 - val_accuracy: 0.7904\n",
      "Epoch 82/100\n",
      "\n",
      "Epoch 00082: val_loss did not improve from 0.39421\n",
      "42/42 - 5s - loss: 0.2809 - accuracy: 0.8741 - val_loss: 0.4631 - val_accuracy: 0.7844\n",
      "Epoch 83/100\n",
      "\n",
      "Epoch 00083: val_loss did not improve from 0.39421\n",
      "42/42 - 5s - loss: 0.2315 - accuracy: 0.9010 - val_loss: 0.4419 - val_accuracy: 0.8204\n",
      "Epoch 84/100\n",
      "\n",
      "Epoch 00084: val_loss did not improve from 0.39421\n",
      "42/42 - 5s - loss: 0.2791 - accuracy: 0.8906 - val_loss: 0.6205 - val_accuracy: 0.7126\n",
      "Epoch 85/100\n",
      "\n",
      "Epoch 00085: val_loss did not improve from 0.39421\n",
      "42/42 - 5s - loss: 0.2875 - accuracy: 0.8951 - val_loss: 0.5780 - val_accuracy: 0.7665\n",
      "Epoch 86/100\n",
      "\n",
      "Epoch 00086: val_loss did not improve from 0.39421\n",
      "42/42 - 5s - loss: 0.2555 - accuracy: 0.9055 - val_loss: 0.4611 - val_accuracy: 0.8144\n",
      "Epoch 87/100\n",
      "\n",
      "Epoch 00087: val_loss did not improve from 0.39421\n",
      "42/42 - 5s - loss: 0.2495 - accuracy: 0.8996 - val_loss: 0.4708 - val_accuracy: 0.8084\n",
      "Epoch 88/100\n",
      "\n",
      "Epoch 00088: val_loss did not improve from 0.39421\n",
      "42/42 - 5s - loss: 0.2792 - accuracy: 0.8906 - val_loss: 0.4723 - val_accuracy: 0.7605\n",
      "Epoch 89/100\n",
      "\n",
      "Epoch 00089: val_loss did not improve from 0.39421\n",
      "42/42 - 5s - loss: 0.2795 - accuracy: 0.8816 - val_loss: 0.5306 - val_accuracy: 0.7784\n",
      "Epoch 90/100\n",
      "\n",
      "Epoch 00090: val_loss did not improve from 0.39421\n",
      "42/42 - 5s - loss: 0.2370 - accuracy: 0.8981 - val_loss: 0.4369 - val_accuracy: 0.8024\n",
      "Epoch 91/100\n",
      "\n",
      "Epoch 00091: val_loss did not improve from 0.39421\n",
      "42/42 - 5s - loss: 0.2463 - accuracy: 0.9055 - val_loss: 0.4394 - val_accuracy: 0.7904\n",
      "Epoch 92/100\n",
      "\n",
      "Epoch 00092: val_loss did not improve from 0.39421\n",
      "42/42 - 5s - loss: 0.2692 - accuracy: 0.8936 - val_loss: 0.5152 - val_accuracy: 0.7784\n",
      "Epoch 93/100\n",
      "\n",
      "Epoch 00093: val_loss did not improve from 0.39421\n",
      "42/42 - 5s - loss: 0.2278 - accuracy: 0.9220 - val_loss: 0.5113 - val_accuracy: 0.7784\n",
      "Epoch 94/100\n",
      "\n",
      "Epoch 00094: val_loss did not improve from 0.39421\n",
      "42/42 - 5s - loss: 0.2577 - accuracy: 0.8966 - val_loss: 0.5060 - val_accuracy: 0.7725\n",
      "Epoch 95/100\n",
      "\n",
      "Epoch 00095: val_loss did not improve from 0.39421\n",
      "42/42 - 5s - loss: 0.2452 - accuracy: 0.9025 - val_loss: 0.4691 - val_accuracy: 0.8084\n",
      "Epoch 96/100\n",
      "\n",
      "Epoch 00096: val_loss did not improve from 0.39421\n",
      "42/42 - 5s - loss: 0.2433 - accuracy: 0.8996 - val_loss: 0.4979 - val_accuracy: 0.8084\n",
      "Epoch 97/100\n",
      "\n",
      "Epoch 00097: val_loss did not improve from 0.39421\n",
      "42/42 - 5s - loss: 0.2636 - accuracy: 0.8906 - val_loss: 0.4791 - val_accuracy: 0.7605\n",
      "Epoch 98/100\n",
      "\n",
      "Epoch 00098: val_loss did not improve from 0.39421\n",
      "42/42 - 5s - loss: 0.2150 - accuracy: 0.9085 - val_loss: 0.5733 - val_accuracy: 0.7605\n",
      "Epoch 99/100\n",
      "\n",
      "Epoch 00099: val_loss did not improve from 0.39421\n",
      "42/42 - 5s - loss: 0.2136 - accuracy: 0.9220 - val_loss: 0.5464 - val_accuracy: 0.7725\n",
      "Epoch 100/100\n",
      "\n",
      "Epoch 00100: val_loss did not improve from 0.39421\n",
      "42/42 - 5s - loss: 0.2009 - accuracy: 0.9190 - val_loss: 0.4507 - val_accuracy: 0.8024\n"
     ]
    }
   ],
   "metadata": {}
  },
  {
   "cell_type": "code",
   "execution_count": 243,
   "source": [
    "plt.figure(0)\r\n",
    "plt.plot(fittedModel.history['accuracy'])\r\n",
    "plt.plot(fittedModel.history['val_accuracy'])\r\n",
    "plt.title('model accuracy')\r\n",
    "plt.ylabel('accuracy')\r\n",
    "plt.xlabel('epoch')\r\n",
    "plt.legend(['train', 'val'], loc='upper left')\r\n",
    "plt.show()"
   ],
   "outputs": [
    {
     "output_type": "display_data",
     "data": {
      "image/png": "[encoded data removed]",
      "text/plain": [
       "<Figure size 432x288 with 1 Axes>"
      ]
     },
     "metadata": {
      "needs_background": "light"
     }
    }
   ],
   "metadata": {}
  },
  {
   "cell_type": "code",
   "execution_count": 244,
   "source": [
    "plt.figure(1)\r\n",
    "plt.plot(fittedModel.history['loss'])\r\n",
    "plt.plot(fittedModel.history['val_loss'])\r\n",
    "plt.title('model loss')\r\n",
    "plt.ylabel('accuracy')\r\n",
    "plt.xlabel('epoch')\r\n",
    "plt.legend(['train', 'val'], loc='upper left')\r\n",
    "plt.show()"
   ],
   "outputs": [
    {
     "output_type": "display_data",
     "data": {
      "image/png": "[encoded data removed]",
      "text/plain": [
       "<Figure size 432x288 with 1 Axes>"
      ]
     },
     "metadata": {
      "needs_background": "light"
     }
    }
   ],
   "metadata": {}
  },
  {
   "cell_type": "code",
   "execution_count": null,
   "source": [
    "# model.load_weights('checkpoint.h5')\r\n",
    "# probs       = model.predict(X_test)\r\n",
    "# preds       = probs.argmax(axis = -1)  \r\n",
    "# acc         = np.mean(preds == Y_test.argmax(axis=-1))\r\n",
    "# print(\"Classification accuracy: %f \" % (acc))"
   ],
   "outputs": [],
   "metadata": {}
  },
  {
   "cell_type": "code",
   "execution_count": 245,
   "source": [
    "model.load_weights('checkpoint.h5')\r\n",
    "test_data=data['X_test']\r\n",
    "true_labels=np.loadtxt('true_labels_bci3.txt')\r\n",
    "print(test_data.shape,true_labels.shape)"
   ],
   "outputs": [
    {
     "output_type": "stream",
     "name": "stdout",
     "text": [
      "(100, 64, 3000) (100,)\n"
     ]
    }
   ],
   "metadata": {}
  },
  {
   "cell_type": "code",
   "execution_count": 246,
   "source": [
    "j=0\r\n",
    "test_segmented=np.empty((test_data.shape[0]*3,64,1000))\r\n",
    "for i in range(test_data.shape[0]):\r\n",
    "    test_segmented[j,:,:]=test_data[i,:,:1000]\r\n",
    "    test_segmented[j+1,:,:]=test_data[i,:,1000:2000]\r\n",
    "    test_segmented[j+2,:,:]=test_data[i,:,2000:3000]\r\n",
    "    j=j+3"
   ],
   "outputs": [],
   "metadata": {}
  },
  {
   "cell_type": "code",
   "execution_count": 247,
   "source": [
    "true_labels_segmented=np.empty((true_labels.shape[0]*3),dtype=int)\r\n",
    "j=0\r\n",
    "for i in range(true_labels.shape[0]):\r\n",
    "    true_labels_segmented[j]=true_labels[i]\r\n",
    "    true_labels_segmented[j+1]=true_labels[i]\r\n",
    "    true_labels_segmented[j+2]=true_labels[i]\r\n",
    "    j=j+3"
   ],
   "outputs": [],
   "metadata": {}
  },
  {
   "cell_type": "code",
   "execution_count": 248,
   "source": [
    "test_segmented.shape, true_labels_segmented.shape"
   ],
   "outputs": [
    {
     "output_type": "execute_result",
     "data": {
      "text/plain": [
       "((300, 64, 1000), (300,))"
      ]
     },
     "metadata": {},
     "execution_count": 248
    }
   ],
   "metadata": {}
  },
  {
   "cell_type": "code",
   "execution_count": 249,
   "source": [
    "new_test_data=np.empty([300,64,250])\r\n",
    "for i in range(0,300):\r\n",
    "    for j in range(0,64):\r\n",
    "        array=test_segmented[i,j,:]\r\n",
    "        array=array.astype('float64')\r\n",
    "        new_test_data[i,j,:]=signal.resample(array,250)\r\n",
    "new_test_data= new_test_data.reshape(new_test_data.shape[0], chans, samples, kernels)\r\n",
    "true_labels_segmented= np_utils.to_categorical((true_labels_segmented+1)/2)\r\n"
   ],
   "outputs": [],
   "metadata": {}
  },
  {
   "cell_type": "code",
   "execution_count": 250,
   "source": [
    "new_test_data.shape, true_labels_segmented.shape"
   ],
   "outputs": [
    {
     "output_type": "execute_result",
     "data": {
      "text/plain": [
       "((300, 64, 250, 1), (300, 2))"
      ]
     },
     "metadata": {},
     "execution_count": 250
    }
   ],
   "metadata": {}
  },
  {
   "cell_type": "code",
   "execution_count": 251,
   "source": [
    "probs_test=model.predict(new_test_data)\r\n",
    "preds_test=probs_test.argmax(axis=-1)\r\n",
    "acc_test=np.mean(preds_test==true_labels_segmented.argmax(axis=-1))\r\n",
    "print(\"Test Accuracy: %f\"% (acc_test))\r\n"
   ],
   "outputs": [
    {
     "output_type": "stream",
     "name": "stdout",
     "text": [
      "Test Accuracy: 0.500000\n"
     ]
    }
   ],
   "metadata": {}
  },
  {
   "cell_type": "code",
   "execution_count": null,
   "source": [],
   "outputs": [],
   "metadata": {}
  }
 ]
}