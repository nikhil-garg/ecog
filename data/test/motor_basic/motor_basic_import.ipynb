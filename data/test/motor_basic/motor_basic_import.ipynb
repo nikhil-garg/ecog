{
 "metadata": {
  "language_info": {
   "codemirror_mode": {
    "name": "ipython",
    "version": 3
   },
   "file_extension": ".py",
   "mimetype": "text/x-python",
   "name": "python",
   "nbconvert_exporter": "python",
   "pygments_lexer": "ipython3",
   "version": "3.8.10"
  },
  "orig_nbformat": 4,
  "kernelspec": {
   "name": "python3",
   "display_name": "Python 3.8.10 64-bit ('ecog': conda)"
  },
  "interpreter": {
   "hash": "0663cc8a2ebfa104e819d48d008a626a361aa8dd1125e760bdac99877362df7c"
  }
 },
 "nbformat": 4,
 "nbformat_minor": 2,
 "cells": [
  {
   "cell_type": "code",
   "execution_count": 71,
   "source": [
    "import numpy as np \r\n",
    "import os\r\n",
    "import mne\r\n",
    "\r\n",
    "data={}\r\n",
    "raw={}\r\n",
    "X={}\r\n",
    "events_ts={}\r\n",
    "events={}\r\n",
    "epochs={}\r\n",
    "electrodes={}\r\n",
    "n_channels={}\r\n",
    "info={}\r\n",
    "s_freq=1000"
   ],
   "outputs": [],
   "metadata": {}
  },
  {
   "cell_type": "code",
   "execution_count": 72,
   "source": [
    "subjects=['bp',\r\n",
    "    'ca',\r\n",
    "    'cc',\r\n",
    "    'de',\r\n",
    "    'fp',\r\n",
    "    'gc',\r\n",
    "    'gf',\r\n",
    "    'hh',\r\n",
    "    'hl',\r\n",
    "    'jc',\r\n",
    "    'jf',\r\n",
    "    'jm',\r\n",
    "    'jp',\r\n",
    "    'jt',\r\n",
    "    'rh',\r\n",
    "    'rr',\r\n",
    "    'ug',\r\n",
    "    'wc',\r\n",
    "    'zt'\r\n",
    "]"
   ],
   "outputs": [],
   "metadata": {}
  },
  {
   "cell_type": "code",
   "execution_count": 73,
   "source": [
    "path=os.path.abspath(os.path.join(os.path.dirname(\" __file__\" ), '../..', 'motor_basic_npz'))\r\n",
    "for sub in subjects:\r\n",
    "    data[sub]=np.load(path+\"/\"+sub+\"_mot.npz\")\r\n",
    "    X[sub]=data[sub]['X'].transpose()\r\n",
    "    events_ts[sub]=data[sub]['events']\r\n",
    "    electrodes[sub]=data[sub]['electrodes']\r\n",
    "    n_channels[sub]=X[sub].shape[0]\r\n",
    "    info[sub]=mne.create_info(n_channels[sub],sfreq=s_freq)\r\n",
    "    raw[sub]=mne.io.RawArray(X[sub],info[sub])"
   ],
   "outputs": [
    {
     "output_type": "stream",
     "name": "stdout",
     "text": [
      "Creating RawArray with float64 data, n_channels=47, n_times=376400\n",
      "    Range : 0 ... 376399 =      0.000 ...   376.399 secs\n",
      "Ready.\n",
      "Creating RawArray with float64 data, n_channels=59, n_times=390240\n",
      "    Range : 0 ... 390239 =      0.000 ...   390.239 secs\n",
      "Ready.\n",
      "Creating RawArray with float64 data, n_channels=60, n_times=195200\n",
      "    Range : 0 ... 195199 =      0.000 ...   195.199 secs\n",
      "Ready.\n",
      "Creating RawArray with float64 data, n_channels=64, n_times=390400\n",
      "    Range : 0 ... 390399 =      0.000 ...   390.399 secs\n",
      "Ready.\n",
      "Creating RawArray with float64 data, n_channels=62, n_times=390680\n",
      "    Range : 0 ... 390679 =      0.000 ...   390.679 secs\n",
      "Ready.\n",
      "Creating RawArray with float64 data, n_channels=64, n_times=390560\n",
      "    Range : 0 ... 390559 =      0.000 ...   390.559 secs\n",
      "Ready.\n",
      "Creating RawArray with float64 data, n_channels=63, n_times=586000\n",
      "    Range : 0 ... 585999 =      0.000 ...   585.999 secs\n",
      "Ready.\n",
      "Creating RawArray with float64 data, n_channels=41, n_times=376240\n",
      "    Range : 0 ... 376239 =      0.000 ...   376.239 secs\n",
      "Ready.\n",
      "Creating RawArray with float64 data, n_channels=64, n_times=376240\n",
      "    Range : 0 ... 376239 =      0.000 ...   376.239 secs\n",
      "Ready.\n",
      "Creating RawArray with float64 data, n_channels=48, n_times=390720\n",
      "    Range : 0 ... 390719 =      0.000 ...   390.719 secs\n",
      "Ready.\n",
      "Creating RawArray with float64 data, n_channels=39, n_times=419640\n",
      "    Range : 0 ... 419639 =      0.000 ...   419.639 secs\n",
      "Ready.\n",
      "Creating RawArray with float64 data, n_channels=63, n_times=390640\n",
      "    Range : 0 ... 390639 =      0.000 ...   390.639 secs\n",
      "Ready.\n",
      "Creating RawArray with float64 data, n_channels=58, n_times=246000\n",
      "    Range : 0 ... 245999 =      0.000 ...   245.999 secs\n",
      "Ready.\n",
      "Creating RawArray with float64 data, n_channels=62, n_times=390240\n",
      "    Range : 0 ... 390239 =      0.000 ...   390.239 secs\n",
      "Ready.\n",
      "Creating RawArray with float64 data, n_channels=63, n_times=390720\n",
      "    Range : 0 ... 390719 =      0.000 ...   390.719 secs\n",
      "Ready.\n",
      "Creating RawArray with float64 data, n_channels=49, n_times=390240\n",
      "    Range : 0 ... 390239 =      0.000 ...   390.239 secs\n",
      "Ready.\n",
      "Creating RawArray with float64 data, n_channels=25, n_times=585760\n",
      "    Range : 0 ... 585759 =      0.000 ...   585.759 secs\n",
      "Ready.\n",
      "Creating RawArray with float64 data, n_channels=64, n_times=390240\n",
      "    Range : 0 ... 390239 =      0.000 ...   390.239 secs\n",
      "Ready.\n",
      "Creating RawArray with float64 data, n_channels=48, n_times=571720\n",
      "    Range : 0 ... 571719 =      0.000 ...   571.719 secs\n",
      "Ready.\n"
     ]
    }
   ],
   "metadata": {}
  },
  {
   "cell_type": "code",
   "execution_count": 74,
   "source": [
    "for sub in subjects:\r\n",
    "    ts=events_ts[sub]\r\n",
    "    events[sub]=np.empty((0,3),int)\r\n",
    "    i=0\r\n",
    "    events[sub]=np.append(events[sub],np.array([[i+1,0,ts[i][0]]]),axis=0)\r\n",
    "    for i in range (1,len(ts)):\r\n",
    "        if (ts[i]!=ts[i-1]):\r\n",
    "            events[sub]=np.append(events[sub],np.array([[i+1,0,ts[i][0]]]),axis=0)\r\n"
   ],
   "outputs": [],
   "metadata": {}
  },
  {
   "cell_type": "code",
   "execution_count": 75,
   "source": [
    "event_dict = dict(Finger=11, Tongue=12, Rest=0)"
   ],
   "outputs": [],
   "metadata": {}
  },
  {
   "cell_type": "code",
   "execution_count": 76,
   "source": [
    "events['bp']"
   ],
   "outputs": [
    {
     "output_type": "execute_result",
     "data": {
      "text/plain": [
       "array([[     1,      0,      0],\n",
       "       [ 10161,      0,     12],\n",
       "       [ 13161,      0,      0],\n",
       "       [ 16161,      0,     12],\n",
       "       [ 19161,      0,      0],\n",
       "       [ 22161,      0,     12],\n",
       "       [ 25161,      0,      0],\n",
       "       [ 28241,      0,     11],\n",
       "       [ 31241,      0,      0],\n",
       "       [ 34241,      0,     12],\n",
       "       [ 37241,      0,      0],\n",
       "       [ 40321,      0,     12],\n",
       "       [ 43321,      0,      0],\n",
       "       [ 46361,      0,     12],\n",
       "       [ 49361,      0,      0],\n",
       "       [ 52441,      0,     11],\n",
       "       [ 55441,      0,      0],\n",
       "       [ 58521,      0,     11],\n",
       "       [ 61521,      0,      0],\n",
       "       [ 64601,      0,     12],\n",
       "       [ 67601,      0,      0],\n",
       "       [ 70681,      0,     12],\n",
       "       [ 73681,      0,      0],\n",
       "       [ 76681,      0,     11],\n",
       "       [ 79681,      0,      0],\n",
       "       [ 82681,      0,     11],\n",
       "       [ 85681,      0,      0],\n",
       "       [ 88721,      0,     11],\n",
       "       [ 91721,      0,      0],\n",
       "       [ 94761,      0,     12],\n",
       "       [ 97761,      0,      0],\n",
       "       [100761,      0,     11],\n",
       "       [103761,      0,      0],\n",
       "       [106801,      0,     11],\n",
       "       [109801,      0,      0],\n",
       "       [112841,      0,     11],\n",
       "       [115841,      0,      0],\n",
       "       [118881,      0,     12],\n",
       "       [121881,      0,      0],\n",
       "       [124961,      0,     12],\n",
       "       [127961,      0,      0],\n",
       "       [131041,      0,     11],\n",
       "       [134041,      0,      0],\n",
       "       [137081,      0,     11],\n",
       "       [140081,      0,      0],\n",
       "       [143161,      0,     12],\n",
       "       [146161,      0,      0],\n",
       "       [149161,      0,     11],\n",
       "       [152161,      0,      0],\n",
       "       [155161,      0,     11],\n",
       "       [158161,      0,      0],\n",
       "       [161161,      0,     12],\n",
       "       [164161,      0,      0],\n",
       "       [167241,      0,     12],\n",
       "       [170241,      0,      0],\n",
       "       [173321,      0,     12],\n",
       "       [176321,      0,      0],\n",
       "       [179321,      0,     11],\n",
       "       [182321,      0,      0],\n",
       "       [185321,      0,     11],\n",
       "       [188321,      0,      0],\n",
       "       [191321,      0,     12],\n",
       "       [194321,      0,      0],\n",
       "       [197401,      0,     11],\n",
       "       [200401,      0,      0],\n",
       "       [203401,      0,     12],\n",
       "       [206401,      0,      0],\n",
       "       [209481,      0,     12],\n",
       "       [212481,      0,      0],\n",
       "       [215521,      0,     12],\n",
       "       [218521,      0,      0],\n",
       "       [221521,      0,     12],\n",
       "       [224521,      0,      0],\n",
       "       [227561,      0,     11],\n",
       "       [230561,      0,      0],\n",
       "       [233601,      0,     12],\n",
       "       [236601,      0,      0],\n",
       "       [239641,      0,     11],\n",
       "       [242641,      0,      0],\n",
       "       [245641,      0,     12],\n",
       "       [248641,      0,      0],\n",
       "       [251641,      0,     12],\n",
       "       [254641,      0,      0],\n",
       "       [257721,      0,     11],\n",
       "       [260721,      0,      0],\n",
       "       [263761,      0,     11],\n",
       "       [266761,      0,      0],\n",
       "       [269801,      0,     12],\n",
       "       [272801,      0,      0],\n",
       "       [275841,      0,     11],\n",
       "       [278841,      0,      0],\n",
       "       [281841,      0,     11],\n",
       "       [284841,      0,      0],\n",
       "       [287881,      0,     11],\n",
       "       [290881,      0,      0],\n",
       "       [293881,      0,     11],\n",
       "       [296881,      0,      0],\n",
       "       [299881,      0,     11],\n",
       "       [302881,      0,      0],\n",
       "       [305921,      0,     12],\n",
       "       [308921,      0,      0],\n",
       "       [311921,      0,     12],\n",
       "       [314921,      0,      0],\n",
       "       [318001,      0,     12],\n",
       "       [321001,      0,      0],\n",
       "       [324001,      0,     12],\n",
       "       [327001,      0,      0],\n",
       "       [330081,      0,     11],\n",
       "       [333081,      0,      0],\n",
       "       [336121,      0,     12],\n",
       "       [339121,      0,      0],\n",
       "       [342201,      0,     11],\n",
       "       [345201,      0,      0],\n",
       "       [348241,      0,     11],\n",
       "       [351241,      0,      0],\n",
       "       [354321,      0,     12],\n",
       "       [357321,      0,      0],\n",
       "       [360361,      0,     11],\n",
       "       [363361,      0,      0],\n",
       "       [366441,      0,     11],\n",
       "       [369441,      0,      0]])"
      ]
     },
     "metadata": {},
     "execution_count": 76
    }
   ],
   "metadata": {}
  },
  {
   "cell_type": "code",
   "execution_count": 77,
   "source": [
    "for sub in subjects:\r\n",
    "    epochs[sub]=mne.Epochs(raw[sub],events[sub],baseline=None,tmin=-0., tmax=2.999,event_id=event_dict) #add tmin and tmax, update start if needed "
   ],
   "outputs": [
    {
     "output_type": "stream",
     "name": "stdout",
     "text": [
      "Not setting metadata\n",
      "Not setting metadata\n",
      "121 matching events found\n",
      "No baseline correction applied\n",
      "0 projection items activated\n",
      "Not setting metadata\n",
      "Not setting metadata\n",
      "121 matching events found\n",
      "No baseline correction applied\n",
      "0 projection items activated\n",
      "Not setting metadata\n",
      "Not setting metadata\n",
      "61 matching events found\n",
      "No baseline correction applied\n",
      "0 projection items activated\n",
      "Not setting metadata\n",
      "Not setting metadata\n",
      "122 matching events found\n",
      "No baseline correction applied\n",
      "0 projection items activated\n",
      "Not setting metadata\n",
      "Not setting metadata\n",
      "121 matching events found\n",
      "No baseline correction applied\n",
      "0 projection items activated\n",
      "Not setting metadata\n",
      "Not setting metadata\n",
      "121 matching events found\n",
      "No baseline correction applied\n",
      "0 projection items activated\n",
      "Not setting metadata\n",
      "Not setting metadata\n",
      "155 matching events found\n",
      "No baseline correction applied\n",
      "0 projection items activated\n",
      "Not setting metadata\n",
      "Not setting metadata\n",
      "121 matching events found\n",
      "No baseline correction applied\n",
      "0 projection items activated\n",
      "Not setting metadata\n",
      "Not setting metadata\n",
      "121 matching events found\n",
      "No baseline correction applied\n",
      "0 projection items activated\n",
      "Not setting metadata\n",
      "Not setting metadata\n",
      "121 matching events found\n",
      "No baseline correction applied\n",
      "0 projection items activated\n",
      "Not setting metadata\n",
      "Not setting metadata\n",
      "133 matching events found\n",
      "No baseline correction applied\n",
      "0 projection items activated\n",
      "Not setting metadata\n",
      "Not setting metadata\n",
      "121 matching events found\n",
      "No baseline correction applied\n",
      "0 projection items activated\n",
      "Not setting metadata\n",
      "Not setting metadata\n",
      "77 matching events found\n",
      "No baseline correction applied\n",
      "0 projection items activated\n",
      "Not setting metadata\n",
      "Not setting metadata\n",
      "121 matching events found\n",
      "No baseline correction applied\n",
      "0 projection items activated\n",
      "Not setting metadata\n",
      "Not setting metadata\n",
      "121 matching events found\n",
      "No baseline correction applied\n",
      "0 projection items activated\n",
      "Not setting metadata\n",
      "Not setting metadata\n",
      "121 matching events found\n",
      "No baseline correction applied\n",
      "0 projection items activated\n",
      "Not setting metadata\n",
      "Not setting metadata\n",
      "181 matching events found\n",
      "No baseline correction applied\n",
      "0 projection items activated\n",
      "Not setting metadata\n",
      "Not setting metadata\n",
      "121 matching events found\n",
      "No baseline correction applied\n",
      "0 projection items activated\n",
      "Not setting metadata\n",
      "Not setting metadata\n",
      "151 matching events found\n",
      "No baseline correction applied\n",
      "0 projection items activated\n"
     ]
    }
   ],
   "metadata": {}
  },
  {
   "cell_type": "code",
   "execution_count": 78,
   "source": [
    "np=epochs['bp'].get_data()*1000         #need to resample or tune window"
   ],
   "outputs": [
    {
     "output_type": "stream",
     "name": "stdout",
     "text": [
      "Loading data for 121 events and 3000 original time points ...\n",
      "0 bad epochs dropped\n"
     ]
    }
   ],
   "metadata": {}
  },
  {
   "cell_type": "code",
   "execution_count": 79,
   "source": [
    "np.shape\r\n"
   ],
   "outputs": [
    {
     "output_type": "execute_result",
     "data": {
      "text/plain": [
       "(121, 47, 3000)"
      ]
     },
     "metadata": {},
     "execution_count": 79
    }
   ],
   "metadata": {}
  },
  {
   "cell_type": "code",
   "execution_count": 80,
   "source": [
    "labels=epochs['bp'].events[:,-1]"
   ],
   "outputs": [],
   "metadata": {}
  },
  {
   "cell_type": "code",
   "execution_count": 81,
   "source": [
    "labels.shape"
   ],
   "outputs": [
    {
     "output_type": "execute_result",
     "data": {
      "text/plain": [
       "(121,)"
      ]
     },
     "metadata": {},
     "execution_count": 81
    }
   ],
   "metadata": {}
  },
  {
   "cell_type": "code",
   "execution_count": null,
   "source": [
    "\r\n"
   ],
   "outputs": [],
   "metadata": {}
  }
 ]
}