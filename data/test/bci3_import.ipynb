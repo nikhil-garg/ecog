{
 "metadata": {
  "language_info": {
   "codemirror_mode": {
    "name": "ipython",
    "version": 3
   },
   "file_extension": ".py",
   "mimetype": "text/x-python",
   "name": "python",
   "nbconvert_exporter": "python",
   "pygments_lexer": "ipython3",
   "version": "3.8.5"
  },
  "orig_nbformat": 4,
  "kernelspec": {
   "name": "python3",
   "display_name": "Python 3.8.5 64-bit ('ecog': conda)"
  },
  "interpreter": {
   "hash": "0663cc8a2ebfa104e819d48d008a626a361aa8dd1125e760bdac99877362df7c"
  }
 },
 "nbformat": 4,
 "nbformat_minor": 2,
 "cells": [
  {
   "cell_type": "code",
   "execution_count": 4,
   "metadata": {},
   "outputs": [],
   "source": [
    "import numpy as np \n",
    "import pandas as pd \n",
    "import matplotlib.pyplot as plt \n",
    "pd.pandas.set_option('display.max_columns', None)\n",
    "%matplotlib inline\n"
   ]
  },
  {
   "cell_type": "code",
   "execution_count": 5,
   "metadata": {},
   "outputs": [],
   "source": [
    "path=os.path.abspath(os.path.join(os.path.dirname(\" __file__\" ), '..', 'bci3_npz'))\n",
    "raw=np.load(path+\"/\"+\"bci_3.npz\")\n",
    "X=raw['X']\n",
    "events=raw['events']\n",
    "X_test=raw['X_test']"
   ]
  },
  {
   "cell_type": "code",
   "execution_count": null,
   "metadata": {},
   "outputs": [],
   "source": []
  }
 ]
}