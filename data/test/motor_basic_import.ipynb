{
 "metadata": {
  "language_info": {
   "codemirror_mode": {
    "name": "ipython",
    "version": 3
   },
   "file_extension": ".py",
   "mimetype": "text/x-python",
   "name": "python",
   "nbconvert_exporter": "python",
   "pygments_lexer": "ipython3",
   "version": "3.8.5"
  },
  "orig_nbformat": 4,
  "kernelspec": {
   "name": "python3",
   "display_name": "Python 3.8.5 64-bit ('ecog': conda)"
  },
  "interpreter": {
   "hash": "0663cc8a2ebfa104e819d48d008a626a361aa8dd1125e760bdac99877362df7c"
  }
 },
 "nbformat": 4,
 "nbformat_minor": 2,
 "cells": [
  {
   "cell_type": "code",
   "execution_count": 1,
   "metadata": {},
   "outputs": [],
   "source": [
    "import numpy as np \n",
    "import pandas as pd \n",
    "import matplotlib.pyplot as plt \n",
    "import os\n",
    "pd.pandas.set_option('display.max_columns', None)\n",
    "%matplotlib inline\n",
    "\n",
    "raw={}\n",
    "X={}\n",
    "events={}\n",
    "electrodes={}"
   ]
  },
  {
   "cell_type": "code",
   "execution_count": 2,
   "metadata": {},
   "outputs": [],
   "source": [
    "subjects=['bp',\n",
    "    'ca',\n",
    "    'cc',\n",
    "    'de',\n",
    "    'fp',\n",
    "    'gc',\n",
    "    'gf',\n",
    "    'hh',\n",
    "    'hl',\n",
    "    'jc',\n",
    "    'jf',\n",
    "    'jm',\n",
    "    'jp',\n",
    "    'jt',\n",
    "    'rh',\n",
    "    'rr',\n",
    "    'ug',\n",
    "    'wc',\n",
    "    'zt'\n",
    "]"
   ]
  },
  {
   "cell_type": "code",
   "execution_count": 4,
   "metadata": {},
   "outputs": [],
   "source": [
    "path=os.path.abspath(os.path.join(os.path.dirname(\" __file__\" ), '..', 'motor_basic_npz'))\n",
    "for sub in subjects:\n",
    "    raw[sub]=np.load(path+\"/\"+sub+\"_mot.npz\")\n",
    "    X[sub]=raw[sub]['X']\n",
    "    events[sub]=raw[sub]['events']\n",
    "    electrodes[sub]=raw[sub]['electrodes']"
   ]
  },
  {
   "cell_type": "code",
   "execution_count": null,
   "metadata": {},
   "outputs": [],
   "source": []
  }
 ]
}