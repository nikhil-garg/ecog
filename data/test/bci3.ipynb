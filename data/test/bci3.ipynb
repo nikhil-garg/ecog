{
 "cells": [
  {
   "cell_type": "code",
   "execution_count": null,
   "source": [
    "X.shape, y.shape"
   ],
   "outputs": [
    {
     "output_type": "display_data",
     "data": {
      "text/plain": [
       "((834, 64, 1000), (834,))"
      ]
     },
     "metadata": {}
    }
   ],
   "metadata": {}
  },
  {
   "cell_type": "code",
   "execution_count": null,
   "source": [
    "# X_train      = X[0:139,]\r\n",
    "# Y_train      = y[0:139]\r\n",
    "# X_validate   = X[139:208,]\r\n",
    "# Y_validate   = y[139:208]\r\n",
    "# X_test       = X[208:,]\r\n",
    "# Y_test       = y[208:]\r\n",
    "\r\n",
    "X_train, X_validate, Y_train, Y_validate=train_test_split(X,y,test_size=0.2,random_state=42)"
   ],
   "outputs": [],
   "metadata": {}
  },
  {
   "cell_type": "code",
   "execution_count": null,
   "source": [
    "kernels, chans, samples = 1, 64, 1000\r\n",
    "\r\n",
    "Y_train      = np_utils.to_categorical((Y_train+1)/2)\r\n",
    "Y_validate   = np_utils.to_categorical((Y_validate+1)/2)\r\n",
    "\r\n",
    "# convert data to NHWC (trials, channels, samples, kernels) format.\r\n",
    "X_train      = X_train.reshape(X_train.shape[0],kernels, chans, samples)\r\n",
    "X_validate   = X_validate.reshape(X_validate.shape[0],kernels, chans, samples)"
   ],
   "outputs": [],
   "metadata": {}
  },
  {
   "cell_type": "code",
   "execution_count": null,
   "source": [
    "print(Y_train.sum(axis=0),Y_validate.sum(axis=0))"
   ],
   "outputs": [
    {
     "output_type": "stream",
     "name": "stdout",
     "text": [
      "[[331. 336.]\n",
      " [336. 331.]] [[86. 81.]\n",
      " [81. 86.]]\n"
     ]
    }
   ],
   "metadata": {}
  },
  {
   "cell_type": "code",
   "execution_count": null,
   "source": [
    "from tensorflow.keras import backend as K\r\n",
    "K.set_image_data_format('channels_first')\r\n",
    "print(K.image_data_format())"
   ],
   "outputs": [
    {
     "output_type": "stream",
     "name": "stdout",
     "text": [
      "channels_first\n"
     ]
    }
   ],
   "metadata": {}
  },
  {
   "cell_type": "code",
   "execution_count": null,
   "source": [
    "# configure the EEGNet-8,2,16 model with kernel length of 32 samples (other \r\n",
    "# model configurations may do better, but this is a good starting point)\r\n",
    "# model = EEGNet(nb_classes = 2, Chans = chans, Samples = samples, dropoutRate = 0.5, kernLength = 32, F1 = 8, D = 2, F2 = 16, dropoutType = 'Dropout')\r\n",
    "# model= DeepConvNet(nb_classes=2, Chans = chans, Samples = samples,dropoutRate = 0.3)\r\n",
    "model = htnet(nb_classes = 2, Chans = chans, Samples = samples, dropoutRate = 0.5, kernLength = 64, F1 = 8, D = 2, F2 = 16, dropoutType = 'Dropout')\r\n",
    "\r\n",
    "\r\n",
    "# compile the model and set the optimizers\r\n",
    "optimizer = tf.keras.optimizers.Adam(lr=0.001, decay=1e-6)\r\n",
    "model.compile(loss='binary_crossentropy', optimizer=optimizer, metrics = ['accuracy'])\r\n",
    "\r\n",
    "checkpointer = ModelCheckpoint(filepath='checkpoint.h5', verbose=1,save_best_only=True)\r\n",
    "\r\n",
    "\r\n",
    "fittedModel = model.fit(X_train, Y_train, batch_size =8, epochs = 100, verbose = 2, validation_data=(X_validate, Y_validate),callbacks=[checkpointer])"
   ],
   "outputs": [
    {
     "output_type": "stream",
     "name": "stderr",
     "text": [
      "D:\\anaconda3\\envs\\ecog\\lib\\site-packages\\keras\\optimizer_v2\\optimizer_v2.py:355: UserWarning: The `lr` argument is deprecated, use `learning_rate` instead.\n",
      "  warnings.warn(\n"
     ]
    },
    {
     "output_type": "stream",
     "name": "stdout",
     "text": [
      "Epoch 1/100\n",
      "28/28 - 3s - loss: 0.6951 - accuracy: 0.5541 - val_loss: 0.6698 - val_accuracy: 0.5357\n",
      "\n",
      "Epoch 00001: val_loss improved from inf to 0.66978, saving model to checkpoint.h5\n",
      "Epoch 2/100\n",
      "28/28 - 1s - loss: 0.6075 - accuracy: 0.6937 - val_loss: 0.6378 - val_accuracy: 0.6429\n",
      "\n",
      "Epoch 00002: val_loss improved from 0.66978 to 0.63785, saving model to checkpoint.h5\n",
      "Epoch 3/100\n",
      "28/28 - 1s - loss: 0.5035 - accuracy: 0.8063 - val_loss: 0.5410 - val_accuracy: 0.7679\n",
      "\n",
      "Epoch 00003: val_loss improved from 0.63785 to 0.54096, saving model to checkpoint.h5\n",
      "Epoch 4/100\n",
      "28/28 - 1s - loss: 0.4217 - accuracy: 0.8243 - val_loss: 0.4835 - val_accuracy: 0.8393\n",
      "\n",
      "Epoch 00004: val_loss improved from 0.54096 to 0.48352, saving model to checkpoint.h5\n",
      "Epoch 5/100\n",
      "28/28 - 1s - loss: 0.3537 - accuracy: 0.8649 - val_loss: 0.4525 - val_accuracy: 0.8214\n",
      "\n",
      "Epoch 00005: val_loss improved from 0.48352 to 0.45245, saving model to checkpoint.h5\n",
      "Epoch 6/100\n",
      "28/28 - 1s - loss: 0.3293 - accuracy: 0.8874 - val_loss: 0.4519 - val_accuracy: 0.8571\n",
      "\n",
      "Epoch 00006: val_loss improved from 0.45245 to 0.45192, saving model to checkpoint.h5\n",
      "Epoch 7/100\n",
      "28/28 - 1s - loss: 0.2984 - accuracy: 0.8919 - val_loss: 0.4084 - val_accuracy: 0.8036\n",
      "\n",
      "Epoch 00007: val_loss improved from 0.45192 to 0.40840, saving model to checkpoint.h5\n",
      "Epoch 8/100\n",
      "28/28 - 1s - loss: 0.2838 - accuracy: 0.9054 - val_loss: 0.3862 - val_accuracy: 0.8214\n",
      "\n",
      "Epoch 00008: val_loss improved from 0.40840 to 0.38623, saving model to checkpoint.h5\n",
      "Epoch 9/100\n",
      "28/28 - 1s - loss: 0.2769 - accuracy: 0.9054 - val_loss: 0.3790 - val_accuracy: 0.8036\n",
      "\n",
      "Epoch 00009: val_loss improved from 0.38623 to 0.37900, saving model to checkpoint.h5\n",
      "Epoch 10/100\n",
      "28/28 - 1s - loss: 0.2557 - accuracy: 0.9144 - val_loss: 0.3690 - val_accuracy: 0.8571\n",
      "\n",
      "Epoch 00010: val_loss improved from 0.37900 to 0.36904, saving model to checkpoint.h5\n",
      "Epoch 11/100\n",
      "28/28 - 1s - loss: 0.2075 - accuracy: 0.9550 - val_loss: 0.3523 - val_accuracy: 0.8571\n",
      "\n",
      "Epoch 00011: val_loss improved from 0.36904 to 0.35226, saving model to checkpoint.h5\n",
      "Epoch 12/100\n",
      "28/28 - 1s - loss: 0.1779 - accuracy: 0.9459 - val_loss: 0.3577 - val_accuracy: 0.8393\n",
      "\n",
      "Epoch 00012: val_loss did not improve from 0.35226\n",
      "Epoch 13/100\n",
      "28/28 - 1s - loss: 0.1891 - accuracy: 0.9414 - val_loss: 0.3705 - val_accuracy: 0.8393\n",
      "\n",
      "Epoch 00013: val_loss did not improve from 0.35226\n",
      "Epoch 14/100\n",
      "28/28 - 1s - loss: 0.1579 - accuracy: 0.9640 - val_loss: 0.3982 - val_accuracy: 0.8214\n",
      "\n",
      "Epoch 00014: val_loss did not improve from 0.35226\n",
      "Epoch 15/100\n",
      "28/28 - 1s - loss: 0.1468 - accuracy: 0.9640 - val_loss: 0.4305 - val_accuracy: 0.8393\n",
      "\n",
      "Epoch 00015: val_loss did not improve from 0.35226\n",
      "Epoch 16/100\n",
      "28/28 - 1s - loss: 0.1763 - accuracy: 0.9640 - val_loss: 0.3808 - val_accuracy: 0.8214\n",
      "\n",
      "Epoch 00016: val_loss did not improve from 0.35226\n",
      "Epoch 17/100\n",
      "28/28 - 1s - loss: 0.1324 - accuracy: 0.9730 - val_loss: 0.3734 - val_accuracy: 0.8393\n",
      "\n",
      "Epoch 00017: val_loss did not improve from 0.35226\n",
      "Epoch 18/100\n",
      "28/28 - 1s - loss: 0.1294 - accuracy: 0.9730 - val_loss: 0.3706 - val_accuracy: 0.8571\n",
      "\n",
      "Epoch 00018: val_loss did not improve from 0.35226\n",
      "Epoch 19/100\n",
      "28/28 - 1s - loss: 0.1575 - accuracy: 0.9640 - val_loss: 0.3770 - val_accuracy: 0.8214\n",
      "\n",
      "Epoch 00019: val_loss did not improve from 0.35226\n",
      "Epoch 20/100\n",
      "28/28 - 1s - loss: 0.1389 - accuracy: 0.9775 - val_loss: 0.3534 - val_accuracy: 0.8571\n",
      "\n",
      "Epoch 00020: val_loss did not improve from 0.35226\n",
      "Epoch 21/100\n",
      "28/28 - 1s - loss: 0.1452 - accuracy: 0.9730 - val_loss: 0.3457 - val_accuracy: 0.8571\n",
      "\n",
      "Epoch 00021: val_loss improved from 0.35226 to 0.34566, saving model to checkpoint.h5\n",
      "Epoch 22/100\n",
      "28/28 - 1s - loss: 0.1076 - accuracy: 0.9865 - val_loss: 0.3759 - val_accuracy: 0.8214\n",
      "\n",
      "Epoch 00022: val_loss did not improve from 0.34566\n",
      "Epoch 23/100\n",
      "28/28 - 1s - loss: 0.1237 - accuracy: 0.9730 - val_loss: 0.3570 - val_accuracy: 0.8214\n",
      "\n",
      "Epoch 00023: val_loss did not improve from 0.34566\n",
      "Epoch 24/100\n",
      "28/28 - 1s - loss: 0.1193 - accuracy: 0.9775 - val_loss: 0.3528 - val_accuracy: 0.8214\n",
      "\n",
      "Epoch 00024: val_loss did not improve from 0.34566\n",
      "Epoch 25/100\n",
      "28/28 - 1s - loss: 0.1079 - accuracy: 0.9820 - val_loss: 0.4010 - val_accuracy: 0.8214\n",
      "\n",
      "Epoch 00025: val_loss did not improve from 0.34566\n",
      "Epoch 26/100\n",
      "28/28 - 1s - loss: 0.1074 - accuracy: 0.9910 - val_loss: 0.3712 - val_accuracy: 0.8036\n",
      "\n",
      "Epoch 00026: val_loss did not improve from 0.34566\n",
      "Epoch 27/100\n",
      "28/28 - 1s - loss: 0.1026 - accuracy: 0.9775 - val_loss: 0.3700 - val_accuracy: 0.8214\n",
      "\n",
      "Epoch 00027: val_loss did not improve from 0.34566\n",
      "Epoch 28/100\n",
      "28/28 - 1s - loss: 0.1347 - accuracy: 0.9640 - val_loss: 0.3726 - val_accuracy: 0.8036\n",
      "\n",
      "Epoch 00028: val_loss did not improve from 0.34566\n",
      "Epoch 29/100\n",
      "28/28 - 1s - loss: 0.1111 - accuracy: 0.9820 - val_loss: 0.3272 - val_accuracy: 0.8571\n",
      "\n",
      "Epoch 00029: val_loss improved from 0.34566 to 0.32715, saving model to checkpoint.h5\n",
      "Epoch 30/100\n",
      "28/28 - 1s - loss: 0.1208 - accuracy: 0.9820 - val_loss: 0.3755 - val_accuracy: 0.8393\n",
      "\n",
      "Epoch 00030: val_loss did not improve from 0.32715\n",
      "Epoch 31/100\n",
      "28/28 - 1s - loss: 0.0941 - accuracy: 0.9865 - val_loss: 0.3890 - val_accuracy: 0.8214\n",
      "\n",
      "Epoch 00031: val_loss did not improve from 0.32715\n",
      "Epoch 32/100\n",
      "28/28 - 1s - loss: 0.0948 - accuracy: 0.9910 - val_loss: 0.3840 - val_accuracy: 0.8214\n",
      "\n",
      "Epoch 00032: val_loss did not improve from 0.32715\n",
      "Epoch 33/100\n",
      "28/28 - 1s - loss: 0.0955 - accuracy: 1.0000 - val_loss: 0.3634 - val_accuracy: 0.8214\n",
      "\n",
      "Epoch 00033: val_loss did not improve from 0.32715\n",
      "Epoch 34/100\n",
      "28/28 - 1s - loss: 0.0839 - accuracy: 0.9955 - val_loss: 0.3906 - val_accuracy: 0.8214\n",
      "\n",
      "Epoch 00034: val_loss did not improve from 0.32715\n",
      "Epoch 35/100\n",
      "28/28 - 1s - loss: 0.0718 - accuracy: 0.9910 - val_loss: 0.3632 - val_accuracy: 0.8571\n",
      "\n",
      "Epoch 00035: val_loss did not improve from 0.32715\n",
      "Epoch 36/100\n",
      "28/28 - 1s - loss: 0.0668 - accuracy: 1.0000 - val_loss: 0.3721 - val_accuracy: 0.8036\n",
      "\n",
      "Epoch 00036: val_loss did not improve from 0.32715\n",
      "Epoch 37/100\n",
      "28/28 - 1s - loss: 0.0762 - accuracy: 0.9955 - val_loss: 0.4069 - val_accuracy: 0.8393\n",
      "\n",
      "Epoch 00037: val_loss did not improve from 0.32715\n",
      "Epoch 38/100\n",
      "28/28 - 1s - loss: 0.0794 - accuracy: 0.9865 - val_loss: 0.4215 - val_accuracy: 0.8214\n",
      "\n",
      "Epoch 00038: val_loss did not improve from 0.32715\n",
      "Epoch 39/100\n",
      "28/28 - 1s - loss: 0.1031 - accuracy: 0.9820 - val_loss: 0.3795 - val_accuracy: 0.8571\n",
      "\n",
      "Epoch 00039: val_loss did not improve from 0.32715\n",
      "Epoch 40/100\n",
      "28/28 - 1s - loss: 0.0854 - accuracy: 0.9865 - val_loss: 0.3734 - val_accuracy: 0.8571\n",
      "\n",
      "Epoch 00040: val_loss did not improve from 0.32715\n",
      "Epoch 41/100\n",
      "28/28 - 1s - loss: 0.0735 - accuracy: 0.9955 - val_loss: 0.4010 - val_accuracy: 0.8214\n",
      "\n",
      "Epoch 00041: val_loss did not improve from 0.32715\n",
      "Epoch 42/100\n",
      "28/28 - 1s - loss: 0.0838 - accuracy: 0.9910 - val_loss: 0.3721 - val_accuracy: 0.8571\n",
      "\n",
      "Epoch 00042: val_loss did not improve from 0.32715\n",
      "Epoch 43/100\n",
      "28/28 - 1s - loss: 0.0728 - accuracy: 0.9910 - val_loss: 0.4044 - val_accuracy: 0.8393\n",
      "\n",
      "Epoch 00043: val_loss did not improve from 0.32715\n",
      "Epoch 44/100\n",
      "28/28 - 1s - loss: 0.0824 - accuracy: 0.9820 - val_loss: 0.4345 - val_accuracy: 0.8214\n",
      "\n",
      "Epoch 00044: val_loss did not improve from 0.32715\n",
      "Epoch 45/100\n",
      "28/28 - 1s - loss: 0.0616 - accuracy: 1.0000 - val_loss: 0.4011 - val_accuracy: 0.8036\n",
      "\n",
      "Epoch 00045: val_loss did not improve from 0.32715\n",
      "Epoch 46/100\n",
      "28/28 - 1s - loss: 0.0601 - accuracy: 0.9910 - val_loss: 0.3896 - val_accuracy: 0.8214\n",
      "\n",
      "Epoch 00046: val_loss did not improve from 0.32715\n",
      "Epoch 47/100\n",
      "28/28 - 1s - loss: 0.0642 - accuracy: 0.9955 - val_loss: 0.3718 - val_accuracy: 0.8571\n",
      "\n",
      "Epoch 00047: val_loss did not improve from 0.32715\n",
      "Epoch 48/100\n",
      "28/28 - 1s - loss: 0.0556 - accuracy: 1.0000 - val_loss: 0.3792 - val_accuracy: 0.8929\n",
      "\n",
      "Epoch 00048: val_loss did not improve from 0.32715\n",
      "Epoch 49/100\n",
      "28/28 - 1s - loss: 0.0483 - accuracy: 1.0000 - val_loss: 0.4397 - val_accuracy: 0.8393\n",
      "\n",
      "Epoch 00049: val_loss did not improve from 0.32715\n",
      "Epoch 50/100\n",
      "28/28 - 1s - loss: 0.0801 - accuracy: 0.9910 - val_loss: 0.4386 - val_accuracy: 0.8393\n",
      "\n",
      "Epoch 00050: val_loss did not improve from 0.32715\n",
      "Epoch 51/100\n",
      "28/28 - 1s - loss: 0.0750 - accuracy: 0.9865 - val_loss: 0.4464 - val_accuracy: 0.8214\n",
      "\n",
      "Epoch 00051: val_loss did not improve from 0.32715\n",
      "Epoch 52/100\n",
      "28/28 - 1s - loss: 0.0566 - accuracy: 1.0000 - val_loss: 0.4041 - val_accuracy: 0.8571\n",
      "\n",
      "Epoch 00052: val_loss did not improve from 0.32715\n",
      "Epoch 53/100\n",
      "28/28 - 1s - loss: 0.0652 - accuracy: 0.9910 - val_loss: 0.4163 - val_accuracy: 0.8571\n",
      "\n",
      "Epoch 00053: val_loss did not improve from 0.32715\n",
      "Epoch 54/100\n",
      "28/28 - 1s - loss: 0.0639 - accuracy: 0.9955 - val_loss: 0.4434 - val_accuracy: 0.8214\n",
      "\n",
      "Epoch 00054: val_loss did not improve from 0.32715\n",
      "Epoch 55/100\n",
      "28/28 - 1s - loss: 0.0606 - accuracy: 0.9955 - val_loss: 0.3776 - val_accuracy: 0.8214\n",
      "\n",
      "Epoch 00055: val_loss did not improve from 0.32715\n",
      "Epoch 56/100\n",
      "28/28 - 1s - loss: 0.0597 - accuracy: 0.9910 - val_loss: 0.3574 - val_accuracy: 0.8571\n",
      "\n",
      "Epoch 00056: val_loss did not improve from 0.32715\n",
      "Epoch 57/100\n",
      "28/28 - 1s - loss: 0.0543 - accuracy: 1.0000 - val_loss: 0.3884 - val_accuracy: 0.8036\n",
      "\n",
      "Epoch 00057: val_loss did not improve from 0.32715\n",
      "Epoch 58/100\n",
      "28/28 - 1s - loss: 0.0561 - accuracy: 0.9955 - val_loss: 0.4146 - val_accuracy: 0.8393\n",
      "\n",
      "Epoch 00058: val_loss did not improve from 0.32715\n",
      "Epoch 59/100\n",
      "28/28 - 1s - loss: 0.0601 - accuracy: 0.9955 - val_loss: 0.4044 - val_accuracy: 0.8393\n",
      "\n",
      "Epoch 00059: val_loss did not improve from 0.32715\n",
      "Epoch 60/100\n",
      "28/28 - 1s - loss: 0.0565 - accuracy: 0.9955 - val_loss: 0.3874 - val_accuracy: 0.8214\n",
      "\n",
      "Epoch 00060: val_loss did not improve from 0.32715\n",
      "Epoch 61/100\n",
      "28/28 - 1s - loss: 0.0743 - accuracy: 0.9865 - val_loss: 0.3595 - val_accuracy: 0.8214\n",
      "\n",
      "Epoch 00061: val_loss did not improve from 0.32715\n",
      "Epoch 62/100\n",
      "28/28 - 1s - loss: 0.0476 - accuracy: 0.9910 - val_loss: 0.4087 - val_accuracy: 0.8214\n",
      "\n",
      "Epoch 00062: val_loss did not improve from 0.32715\n",
      "Epoch 63/100\n",
      "28/28 - 1s - loss: 0.0673 - accuracy: 0.9910 - val_loss: 0.4021 - val_accuracy: 0.8036\n",
      "\n",
      "Epoch 00063: val_loss did not improve from 0.32715\n",
      "Epoch 64/100\n",
      "28/28 - 1s - loss: 0.0497 - accuracy: 0.9955 - val_loss: 0.3615 - val_accuracy: 0.8214\n",
      "\n",
      "Epoch 00064: val_loss did not improve from 0.32715\n",
      "Epoch 65/100\n",
      "28/28 - 1s - loss: 0.0638 - accuracy: 0.9910 - val_loss: 0.4035 - val_accuracy: 0.8571\n",
      "\n",
      "Epoch 00065: val_loss did not improve from 0.32715\n",
      "Epoch 66/100\n",
      "28/28 - 1s - loss: 0.0566 - accuracy: 1.0000 - val_loss: 0.4014 - val_accuracy: 0.8036\n",
      "\n",
      "Epoch 00066: val_loss did not improve from 0.32715\n",
      "Epoch 67/100\n",
      "28/28 - 1s - loss: 0.0405 - accuracy: 0.9955 - val_loss: 0.4373 - val_accuracy: 0.8393\n",
      "\n",
      "Epoch 00067: val_loss did not improve from 0.32715\n",
      "Epoch 68/100\n",
      "28/28 - 1s - loss: 0.0489 - accuracy: 0.9910 - val_loss: 0.4337 - val_accuracy: 0.8036\n",
      "\n",
      "Epoch 00068: val_loss did not improve from 0.32715\n",
      "Epoch 69/100\n",
      "28/28 - 1s - loss: 0.0705 - accuracy: 0.9910 - val_loss: 0.3844 - val_accuracy: 0.8036\n",
      "\n",
      "Epoch 00069: val_loss did not improve from 0.32715\n",
      "Epoch 70/100\n",
      "28/28 - 1s - loss: 0.0559 - accuracy: 0.9955 - val_loss: 0.4118 - val_accuracy: 0.8214\n",
      "\n",
      "Epoch 00070: val_loss did not improve from 0.32715\n",
      "Epoch 71/100\n",
      "28/28 - 1s - loss: 0.0432 - accuracy: 1.0000 - val_loss: 0.3903 - val_accuracy: 0.8571\n",
      "\n",
      "Epoch 00071: val_loss did not improve from 0.32715\n",
      "Epoch 72/100\n",
      "28/28 - 1s - loss: 0.0390 - accuracy: 1.0000 - val_loss: 0.3774 - val_accuracy: 0.8393\n",
      "\n",
      "Epoch 00072: val_loss did not improve from 0.32715\n",
      "Epoch 73/100\n",
      "28/28 - 1s - loss: 0.0377 - accuracy: 1.0000 - val_loss: 0.3835 - val_accuracy: 0.8036\n",
      "\n",
      "Epoch 00073: val_loss did not improve from 0.32715\n",
      "Epoch 74/100\n",
      "28/28 - 1s - loss: 0.0439 - accuracy: 0.9955 - val_loss: 0.4053 - val_accuracy: 0.8214\n",
      "\n",
      "Epoch 00074: val_loss did not improve from 0.32715\n",
      "Epoch 75/100\n",
      "28/28 - 1s - loss: 0.0362 - accuracy: 0.9955 - val_loss: 0.4583 - val_accuracy: 0.8393\n",
      "\n",
      "Epoch 00075: val_loss did not improve from 0.32715\n",
      "Epoch 76/100\n",
      "28/28 - 1s - loss: 0.0350 - accuracy: 1.0000 - val_loss: 0.4280 - val_accuracy: 0.8036\n",
      "\n",
      "Epoch 00076: val_loss did not improve from 0.32715\n",
      "Epoch 77/100\n",
      "28/28 - 1s - loss: 0.0294 - accuracy: 1.0000 - val_loss: 0.4187 - val_accuracy: 0.8393\n",
      "\n",
      "Epoch 00077: val_loss did not improve from 0.32715\n",
      "Epoch 78/100\n",
      "28/28 - 1s - loss: 0.0590 - accuracy: 0.9910 - val_loss: 0.4163 - val_accuracy: 0.8571\n",
      "\n",
      "Epoch 00078: val_loss did not improve from 0.32715\n",
      "Epoch 79/100\n",
      "28/28 - 1s - loss: 0.0462 - accuracy: 0.9955 - val_loss: 0.5134 - val_accuracy: 0.8036\n",
      "\n",
      "Epoch 00079: val_loss did not improve from 0.32715\n",
      "Epoch 80/100\n",
      "28/28 - 1s - loss: 0.0425 - accuracy: 0.9955 - val_loss: 0.5145 - val_accuracy: 0.7679\n",
      "\n",
      "Epoch 00080: val_loss did not improve from 0.32715\n",
      "Epoch 81/100\n",
      "28/28 - 1s - loss: 0.0531 - accuracy: 0.9955 - val_loss: 0.4187 - val_accuracy: 0.8214\n",
      "\n",
      "Epoch 00081: val_loss did not improve from 0.32715\n",
      "Epoch 82/100\n",
      "28/28 - 1s - loss: 0.0781 - accuracy: 0.9775 - val_loss: 0.4355 - val_accuracy: 0.8036\n",
      "\n",
      "Epoch 00082: val_loss did not improve from 0.32715\n",
      "Epoch 83/100\n",
      "28/28 - 1s - loss: 0.0574 - accuracy: 0.9910 - val_loss: 0.4698 - val_accuracy: 0.8036\n",
      "\n",
      "Epoch 00083: val_loss did not improve from 0.32715\n",
      "Epoch 84/100\n",
      "28/28 - 1s - loss: 0.0613 - accuracy: 0.9865 - val_loss: 0.4224 - val_accuracy: 0.8214\n",
      "\n",
      "Epoch 00084: val_loss did not improve from 0.32715\n",
      "Epoch 85/100\n",
      "28/28 - 1s - loss: 0.0656 - accuracy: 0.9820 - val_loss: 0.3437 - val_accuracy: 0.8393\n",
      "\n",
      "Epoch 00085: val_loss did not improve from 0.32715\n",
      "Epoch 86/100\n",
      "28/28 - 1s - loss: 0.0444 - accuracy: 1.0000 - val_loss: 0.3869 - val_accuracy: 0.8214\n",
      "\n",
      "Epoch 00086: val_loss did not improve from 0.32715\n",
      "Epoch 87/100\n",
      "28/28 - 1s - loss: 0.0306 - accuracy: 1.0000 - val_loss: 0.4128 - val_accuracy: 0.8036\n",
      "\n",
      "Epoch 00087: val_loss did not improve from 0.32715\n",
      "Epoch 88/100\n",
      "28/28 - 1s - loss: 0.0257 - accuracy: 0.9955 - val_loss: 0.4021 - val_accuracy: 0.8393\n",
      "\n",
      "Epoch 00088: val_loss did not improve from 0.32715\n",
      "Epoch 89/100\n",
      "28/28 - 1s - loss: 0.0271 - accuracy: 1.0000 - val_loss: 0.4662 - val_accuracy: 0.8214\n",
      "\n",
      "Epoch 00089: val_loss did not improve from 0.32715\n",
      "Epoch 90/100\n",
      "28/28 - 1s - loss: 0.0272 - accuracy: 0.9955 - val_loss: 0.4329 - val_accuracy: 0.8214\n",
      "\n",
      "Epoch 00090: val_loss did not improve from 0.32715\n",
      "Epoch 91/100\n",
      "28/28 - 1s - loss: 0.0303 - accuracy: 1.0000 - val_loss: 0.4046 - val_accuracy: 0.8393\n",
      "\n",
      "Epoch 00091: val_loss did not improve from 0.32715\n",
      "Epoch 92/100\n",
      "28/28 - 1s - loss: 0.0304 - accuracy: 1.0000 - val_loss: 0.4416 - val_accuracy: 0.8214\n",
      "\n",
      "Epoch 00092: val_loss did not improve from 0.32715\n",
      "Epoch 93/100\n",
      "28/28 - 1s - loss: 0.0294 - accuracy: 1.0000 - val_loss: 0.4437 - val_accuracy: 0.8214\n",
      "\n",
      "Epoch 00093: val_loss did not improve from 0.32715\n",
      "Epoch 94/100\n",
      "28/28 - 1s - loss: 0.0295 - accuracy: 1.0000 - val_loss: 0.3806 - val_accuracy: 0.8393\n",
      "\n",
      "Epoch 00094: val_loss did not improve from 0.32715\n",
      "Epoch 95/100\n",
      "28/28 - 1s - loss: 0.0318 - accuracy: 1.0000 - val_loss: 0.4244 - val_accuracy: 0.8393\n",
      "\n",
      "Epoch 00095: val_loss did not improve from 0.32715\n",
      "Epoch 96/100\n",
      "28/28 - 1s - loss: 0.0602 - accuracy: 0.9910 - val_loss: 0.3188 - val_accuracy: 0.8214\n",
      "\n",
      "Epoch 00096: val_loss improved from 0.32715 to 0.31885, saving model to checkpoint.h5\n",
      "Epoch 97/100\n",
      "28/28 - 1s - loss: 0.0513 - accuracy: 0.9910 - val_loss: 0.3423 - val_accuracy: 0.8929\n",
      "\n",
      "Epoch 00097: val_loss did not improve from 0.31885\n",
      "Epoch 98/100\n",
      "28/28 - 1s - loss: 0.0353 - accuracy: 0.9955 - val_loss: 0.4532 - val_accuracy: 0.8214\n",
      "\n",
      "Epoch 00098: val_loss did not improve from 0.31885\n",
      "Epoch 99/100\n",
      "28/28 - 1s - loss: 0.0300 - accuracy: 1.0000 - val_loss: 0.3869 - val_accuracy: 0.8214\n",
      "\n",
      "Epoch 00099: val_loss did not improve from 0.31885\n",
      "Epoch 100/100\n",
      "28/28 - 1s - loss: 0.0221 - accuracy: 1.0000 - val_loss: 0.4588 - val_accuracy: 0.8393\n",
      "\n",
      "Epoch 00100: val_loss did not improve from 0.31885\n"
     ]
    }
   ],
   "metadata": {}
  },
  {
   "cell_type": "code",
   "execution_count": null,
   "source": [
    "plt.figure(0)\r\n",
    "plt.plot(fittedModel.history['accuracy'])\r\n",
    "plt.plot(fittedModel.history['val_accuracy'])\r\n",
    "plt.title('model accuracy')\r\n",
    "plt.ylabel('accuracy')\r\n",
    "plt.xlabel('epoch')\r\n",
    "plt.legend(['train', 'val'], loc='upper left')\r\n",
    "plt.show()"
   ],
   "outputs": [
    {
     "output_type": "display_data",
     "data": {
      "image/png": "[encoded data removed]",
      "text/plain": [
       "<Figure size 432x288 with 1 Axes>"
      ]
     },
     "metadata": {}
    }
   ],
   "metadata": {}
  },
  {
   "cell_type": "code",
   "execution_count": null,
   "source": [
    "plt.figure(1)\r\n",
    "plt.plot(fittedModel.history['loss'])\r\n",
    "plt.plot(fittedModel.history['val_loss'])\r\n",
    "plt.title('model loss')\r\n",
    "plt.ylabel('accuracy')\r\n",
    "plt.xlabel('epoch')\r\n",
    "plt.legend(['train', 'val'], loc='upper left')\r\n",
    "plt.show()"
   ],
   "outputs": [
    {
     "output_type": "display_data",
     "data": {
      "image/png": "[encoded data removed]",
      "text/plain": [
       "<Figure size 432x288 with 1 Axes>"
      ]
     },
     "metadata": {}
    }
   ],
   "metadata": {}
  },
  {
   "cell_type": "code",
   "execution_count": null,
   "source": [
    "# model.load_weights('checkpoint.h5')\r\n",
    "# probs       = model.predict(X_test)\r\n",
    "# preds       = probs.argmax(axis = -1)  \r\n",
    "# acc         = np.mean(preds == Y_test.argmax(axis=-1))\r\n",
    "# print(\"Classification accuracy: %f \" % (acc))"
   ],
   "outputs": [],
   "metadata": {}
  },
  {
   "cell_type": "code",
   "execution_count": null,
   "source": [
    "model.load_weights('checkpoint.h5')\r\n",
    "test_data=data['X_test']\r\n",
    "true_labels=np.loadtxt('true_labels_bci3.txt')\r\n",
    "print(test_data.shape,true_labels.shape)"
   ],
   "outputs": [
    {
     "output_type": "stream",
     "name": "stdout",
     "text": [
      "(100, 64, 3000) (100,)\n"
     ]
    }
   ],
   "metadata": {}
  },
  {
   "cell_type": "code",
   "execution_count": null,
   "source": [
    "j=0\r\n",
    "test_segmented=np.empty((test_data.shape[0]*3,64,1000))\r\n",
    "for i in range(test_data.shape[0]):\r\n",
    "    test_segmented[j,:,:]=test_data[i,:,:1000]\r\n",
    "    test_segmented[j+1,:,:]=test_data[i,:,1000:2000]\r\n",
    "    test_segmented[j+2,:,:]=test_data[i,:,2000:3000]\r\n",
    "    j=j+3"
   ],
   "outputs": [],
   "metadata": {}
  },
  {
   "cell_type": "code",
   "execution_count": null,
   "source": [
    "true_labels_segmented=np.empty((true_labels.shape[0]*3),dtype=int)\r\n",
    "j=0\r\n",
    "for i in range(true_labels.shape[0]):\r\n",
    "    true_labels_segmented[j]=true_labels[i]\r\n",
    "    true_labels_segmented[j+1]=true_labels[i]\r\n",
    "    true_labels_segmented[j+2]=true_labels[i]\r\n",
    "    j=j+3"
   ],
   "outputs": [],
   "metadata": {}
  },
  {
   "cell_type": "code",
   "execution_count": null,
   "source": [
    "test_segmented.shape, true_labels_segmented.shape"
   ],
   "outputs": [
    {
     "output_type": "display_data",
     "data": {
      "text/plain": [
       "((300, 64, 1000), (300,))"
      ]
     },
     "metadata": {}
    }
   ],
   "metadata": {}
  },
  {
   "cell_type": "code",
   "execution_count": null,
   "source": [
    "new_test_data= test_segmented.reshape(test_segmented.shape[0], kernels, chans, samples)\r\n",
    "true_labels_segmented= np_utils.to_categorical((true_labels_segmented+1)/2)\r\n"
   ],
   "outputs": [],
   "metadata": {}
  },
  {
   "cell_type": "code",
   "execution_count": null,
   "source": [
    "new_test_data= test_data.reshape(test_data.shape[0], kernels, chans, samples)\r\n",
    "true_labels= np_utils.to_categorical((true_labels+1)/2)"
   ],
   "outputs": [],
   "metadata": {}
  },
  {
   "cell_type": "code",
   "execution_count": null,
   "source": [
    "new_test_data.shape, true_labels.shape"
   ],
   "outputs": [
    {
     "output_type": "display_data",
     "data": {
      "text/plain": [
       "((100, 1, 64, 3000), (100, 2))"
      ]
     },
     "metadata": {}
    }
   ],
   "metadata": {}
  },
  {
   "cell_type": "code",
   "execution_count": null,
   "source": [
    "probs_test=model.predict(new_test_data)\r\n",
    "preds_test=probs_test.argmax(axis=-1)\r\n",
    "acc_test=np.mean(preds_test==true_labels.argmax(axis=-1))\r\n",
    "print(\"Test Accuracy: %f\"% (acc_test))"
   ],
   "outputs": [
    {
     "output_type": "stream",
     "name": "stdout",
     "text": [
      "Test Accuracy: 0.580000\n"
     ]
    }
   ],
   "metadata": {}
  },
  {
   "cell_type": "code",
   "execution_count": null,
   "source": [],
   "outputs": [],
   "metadata": {}
  }
 ],
 "metadata": {
  "orig_nbformat": 4,
  "language_info": {
   "name": "python"
  }
 },
 "nbformat": 4,
 "nbformat_minor": 2
}