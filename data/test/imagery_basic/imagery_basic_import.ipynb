{
    "cells": [
        {
            "cell_type": "code",
            "execution_count": 1,
            "source": [
                "import numpy as np \r\n",
                "import os\r\n",
                "import mne\r\n",
                "\r\n",
                "data={}\r\n",
                "raw={}\r\n",
                "X={}\r\n",
                "events_ts={}\r\n",
                "events={}\r\n",
                "epochs={}\r\n",
                "electrodes={}\r\n",
                "n_channels={}\r\n",
                "info={}\r\n",
                "s_freq=1000"
            ],
            "outputs": [],
            "metadata": {}
        },
        {
            "cell_type": "code",
            "execution_count": 2,
            "source": [
                "subjects=['bp','fp','jc','jm','rh','rr']\r\n"
            ],
            "outputs": [],
            "metadata": {}
        },
        {
            "cell_type": "code",
            "execution_count": 3,
            "source": [
                "path=os.path.abspath(os.path.join(os.path.dirname(\" __file__\" ), '../..', 'imagery_basic_npz'))\r\n",
                "for sub in subjects:\r\n",
                "    data[sub]=np.load(path+\"/\"+sub+\"_im.npz\")\r\n",
                "    X[sub]=data[sub]['X'].transpose()\r\n",
                "    events_ts[sub]=data[sub]['events']\r\n",
                "    electrodes[sub]=data[sub]['electrodes']\r\n",
                "    n_channels[sub]=X[sub].shape[0]\r\n",
                "    info[sub]=mne.create_info(n_channels[sub],sfreq=s_freq)\r\n",
                "    raw[sub]=mne.io.RawArray(X[sub],info[sub])"
            ],
            "outputs": [
                {
                    "output_type": "stream",
                    "name": "stdout",
                    "text": [
                        "Creating RawArray with float64 data, n_channels=46, n_times=376600\n",
                        "    Range : 0 ... 376599 =      0.000 ...   376.599 secs\n",
                        "Ready.\n",
                        "Creating RawArray with float64 data, n_channels=64, n_times=390320\n",
                        "    Range : 0 ... 390319 =      0.000 ...   390.319 secs\n",
                        "Ready.\n",
                        "Creating RawArray with float64 data, n_channels=48, n_times=390200\n",
                        "    Range : 0 ... 390199 =      0.000 ...   390.199 secs\n",
                        "Ready.\n",
                        "Creating RawArray with float64 data, n_channels=64, n_times=390160\n",
                        "    Range : 0 ... 390159 =      0.000 ...   390.159 secs\n",
                        "Ready.\n",
                        "Creating RawArray with float64 data, n_channels=64, n_times=390200\n",
                        "    Range : 0 ... 390199 =      0.000 ...   390.199 secs\n",
                        "Ready.\n",
                        "Creating RawArray with float64 data, n_channels=64, n_times=390920\n",
                        "    Range : 0 ... 390919 =      0.000 ...   390.919 secs\n",
                        "Ready.\n"
                    ]
                }
            ],
            "metadata": {}
        },
        {
            "cell_type": "code",
            "execution_count": 4,
            "source": [
                "for sub in subjects:\r\n",
                "    ts=events_ts[sub]\r\n",
                "    events[sub]=np.empty((0,3),int)\r\n",
                "    i=0\r\n",
                "    events[sub]=np.append(events[sub],np.array([[i+1,0,ts[i][0]]]),axis=0)\r\n",
                "    for i in range (1,len(ts)):\r\n",
                "        if (ts[i]!=ts[i-1]):\r\n",
                "            events[sub]=np.append(events[sub],np.array([[i+1,0,ts[i][0]]]),axis=0)"
            ],
            "outputs": [],
            "metadata": {}
        },
        {
            "cell_type": "code",
            "execution_count": 5,
            "source": [
                "event_dict = dict(Finger=11, Tongue=12, Rest=0)"
            ],
            "outputs": [],
            "metadata": {}
        },
        {
            "cell_type": "code",
            "execution_count": 6,
            "source": [
                "events['bp']"
            ],
            "outputs": [
                {
                    "output_type": "execute_result",
                    "data": {
                        "text/plain": [
                            "array([[     1,      0,      0],\n",
                            "       [ 10161,      0,     11],\n",
                            "       [ 13161,      0,      0],\n",
                            "       [ 16161,      0,     12],\n",
                            "       [ 19161,      0,      0],\n",
                            "       [ 22161,      0,     11],\n",
                            "       [ 25161,      0,      0],\n",
                            "       [ 28201,      0,     12],\n",
                            "       [ 31201,      0,      0],\n",
                            "       [ 34281,      0,     12],\n",
                            "       [ 37281,      0,      0],\n",
                            "       [ 40281,      0,     12],\n",
                            "       [ 43281,      0,      0],\n",
                            "       [ 46321,      0,     11],\n",
                            "       [ 49321,      0,      0],\n",
                            "       [ 52361,      0,     12],\n",
                            "       [ 55361,      0,      0],\n",
                            "       [ 58441,      0,     11],\n",
                            "       [ 61441,      0,      0],\n",
                            "       [ 64481,      0,     11],\n",
                            "       [ 67481,      0,      0],\n",
                            "       [ 70521,      0,     11],\n",
                            "       [ 73521,      0,      0],\n",
                            "       [ 76601,      0,     11],\n",
                            "       [ 79601,      0,      0],\n",
                            "       [ 82681,      0,     11],\n",
                            "       [ 85681,      0,      0],\n",
                            "       [ 88721,      0,     11],\n",
                            "       [ 91721,      0,      0],\n",
                            "       [ 94801,      0,     12],\n",
                            "       [ 97801,      0,      0],\n",
                            "       [100801,      0,     11],\n",
                            "       [103801,      0,      0],\n",
                            "       [106841,      0,     12],\n",
                            "       [109841,      0,      0],\n",
                            "       [112841,      0,     11],\n",
                            "       [115841,      0,      0],\n",
                            "       [118921,      0,     12],\n",
                            "       [121921,      0,      0],\n",
                            "       [124961,      0,     11],\n",
                            "       [127961,      0,      0],\n",
                            "       [130961,      0,     11],\n",
                            "       [133961,      0,      0],\n",
                            "       [137001,      0,     12],\n",
                            "       [140001,      0,      0],\n",
                            "       [143081,      0,     12],\n",
                            "       [146081,      0,      0],\n",
                            "       [149121,      0,     11],\n",
                            "       [152121,      0,      0],\n",
                            "       [155201,      0,     12],\n",
                            "       [158201,      0,      0],\n",
                            "       [161241,      0,     11],\n",
                            "       [164241,      0,      0],\n",
                            "       [167321,      0,     12],\n",
                            "       [170321,      0,      0],\n",
                            "       [173321,      0,     12],\n",
                            "       [176321,      0,      0],\n",
                            "       [179401,      0,     12],\n",
                            "       [182401,      0,      0],\n",
                            "       [185441,      0,     12],\n",
                            "       [188441,      0,      0],\n",
                            "       [191441,      0,     11],\n",
                            "       [194441,      0,      0],\n",
                            "       [197481,      0,     12],\n",
                            "       [200481,      0,      0],\n",
                            "       [203481,      0,     12],\n",
                            "       [206481,      0,      0],\n",
                            "       [209521,      0,     11],\n",
                            "       [212521,      0,      0],\n",
                            "       [215561,      0,     12],\n",
                            "       [218561,      0,      0],\n",
                            "       [221641,      0,     11],\n",
                            "       [224641,      0,      0],\n",
                            "       [227721,      0,     12],\n",
                            "       [230721,      0,      0],\n",
                            "       [233761,      0,     11],\n",
                            "       [236761,      0,      0],\n",
                            "       [239841,      0,     11],\n",
                            "       [242841,      0,      0],\n",
                            "       [245881,      0,     11],\n",
                            "       [248881,      0,      0],\n",
                            "       [251921,      0,     11],\n",
                            "       [254921,      0,      0],\n",
                            "       [257921,      0,     12],\n",
                            "       [260921,      0,      0],\n",
                            "       [263961,      0,     12],\n",
                            "       [266961,      0,      0],\n",
                            "       [270001,      0,     12],\n",
                            "       [273001,      0,      0],\n",
                            "       [276001,      0,     11],\n",
                            "       [279001,      0,      0],\n",
                            "       [282081,      0,     12],\n",
                            "       [285081,      0,      0],\n",
                            "       [288081,      0,     11],\n",
                            "       [291081,      0,      0],\n",
                            "       [294081,      0,     12],\n",
                            "       [297081,      0,      0],\n",
                            "       [300121,      0,     12],\n",
                            "       [303121,      0,      0],\n",
                            "       [306201,      0,     12],\n",
                            "       [309201,      0,      0],\n",
                            "       [312281,      0,     11],\n",
                            "       [315281,      0,      0],\n",
                            "       [318361,      0,     11],\n",
                            "       [321361,      0,      0],\n",
                            "       [324401,      0,     12],\n",
                            "       [327401,      0,      0],\n",
                            "       [330441,      0,     12],\n",
                            "       [333441,      0,      0],\n",
                            "       [336521,      0,     11],\n",
                            "       [339521,      0,      0],\n",
                            "       [342561,      0,     12],\n",
                            "       [345561,      0,      0],\n",
                            "       [348601,      0,     11],\n",
                            "       [351601,      0,      0],\n",
                            "       [354641,      0,     12],\n",
                            "       [357641,      0,      0],\n",
                            "       [360641,      0,     11],\n",
                            "       [363641,      0,      0],\n",
                            "       [366641,      0,     11],\n",
                            "       [369641,      0,      0]])"
                        ]
                    },
                    "metadata": {},
                    "execution_count": 6
                }
            ],
            "metadata": {}
        },
        {
            "cell_type": "code",
            "execution_count": 7,
            "source": [
                "for sub in subjects:\r\n",
                "    epochs[sub]=mne.Epochs(raw[sub],events[sub],baseline=None,tmin=-0., tmax=2.999,event_id=event_dict) "
            ],
            "outputs": [
                {
                    "output_type": "stream",
                    "name": "stdout",
                    "text": [
                        "Not setting metadata\n",
                        "Not setting metadata\n",
                        "121 matching events found\n",
                        "No baseline correction applied\n",
                        "0 projection items activated\n",
                        "Not setting metadata\n",
                        "Not setting metadata\n",
                        "121 matching events found\n",
                        "No baseline correction applied\n",
                        "0 projection items activated\n",
                        "Not setting metadata\n",
                        "Not setting metadata\n",
                        "121 matching events found\n",
                        "No baseline correction applied\n",
                        "0 projection items activated\n",
                        "Not setting metadata\n",
                        "Not setting metadata\n",
                        "121 matching events found\n",
                        "No baseline correction applied\n",
                        "0 projection items activated\n",
                        "Not setting metadata\n",
                        "Not setting metadata\n",
                        "121 matching events found\n",
                        "No baseline correction applied\n",
                        "0 projection items activated\n",
                        "Not setting metadata\n",
                        "Not setting metadata\n",
                        "121 matching events found\n",
                        "No baseline correction applied\n",
                        "0 projection items activated\n"
                    ]
                }
            ],
            "metadata": {}
        },
        {
            "cell_type": "code",
            "execution_count": 8,
            "source": [
                "np=epochs['bp'].get_data()*1000"
            ],
            "outputs": [
                {
                    "output_type": "stream",
                    "name": "stdout",
                    "text": [
                        "Loading data for 121 events and 3000 original time points ...\n",
                        "0 bad epochs dropped\n"
                    ]
                }
            ],
            "metadata": {}
        },
        {
            "cell_type": "code",
            "execution_count": 9,
            "source": [
                "np.shape"
            ],
            "outputs": [
                {
                    "output_type": "execute_result",
                    "data": {
                        "text/plain": [
                            "(121, 46, 3000)"
                        ]
                    },
                    "metadata": {},
                    "execution_count": 9
                }
            ],
            "metadata": {}
        },
        {
            "cell_type": "code",
            "execution_count": 10,
            "source": [
                "labels=epochs['bp'].events[:,-1]"
            ],
            "outputs": [],
            "metadata": {}
        },
        {
            "cell_type": "code",
            "execution_count": 11,
            "source": [
                "labels.shape"
            ],
            "outputs": [
                {
                    "output_type": "execute_result",
                    "data": {
                        "text/plain": [
                            "(121,)"
                        ]
                    },
                    "metadata": {},
                    "execution_count": 11
                }
            ],
            "metadata": {}
        },
        {
            "cell_type": "code",
            "execution_count": null,
            "source": [],
            "outputs": [],
            "metadata": {}
        }
    ],
    "metadata": {
        "orig_nbformat": 4,
        "language_info": {
            "name": "python",
            "version": "3.8.10",
            "mimetype": "text/x-python",
            "codemirror_mode": {
                "name": "ipython",
                "version": 3
            },
            "pygments_lexer": "ipython3",
            "nbconvert_exporter": "python",
            "file_extension": ".py"
        },
        "kernelspec": {
            "name": "python3",
            "display_name": "Python 3.8.10 64-bit ('ecog': conda)"
        },
        "interpreter": {
            "hash": "0663cc8a2ebfa104e819d48d008a626a361aa8dd1125e760bdac99877362df7c"
        }
    },
    "nbformat": 4,
    "nbformat_minor": 2
}