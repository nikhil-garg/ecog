{
    "cells": [
        {
            "cell_type": "code",
            "execution_count": 1,
            "source": [
                "import numpy as np \r\n",
                "import os\r\n",
                "import mne\r\n",
                "\r\n",
                "data={}\r\n",
                "raw={}\r\n",
                "X={}\r\n",
                "events_ts={}\r\n",
                "events={}\r\n",
                "epochs={}\r\n",
                "electrodes={}\r\n",
                "n_channels={}\r\n",
                "info={}\r\n",
                "s_freq=1000"
            ],
            "outputs": [],
            "metadata": {}
        },
        {
            "cell_type": "code",
            "execution_count": 2,
            "source": [
                "subjects=['bp','fp','jc','jm','rh','rr']\r\n"
            ],
            "outputs": [],
            "metadata": {}
        },
        {
            "cell_type": "code",
            "execution_count": 3,
            "source": [
                "path=os.path.abspath(os.path.join(os.path.dirname(\" __file__\" ), '../..', 'imagery_basic_npz'))\r\n",
                "for sub in subjects:\r\n",
                "    data[sub]=np.load(path+\"/\"+sub+\"_im.npz\")\r\n",
                "    X[sub]=data[sub]['X'].transpose()\r\n",
                "    events_ts[sub]=data[sub]['events']\r\n",
                "    electrodes[sub]=data[sub]['electrodes']\r\n",
                "    n_channels[sub]=X[sub].shape[0]\r\n",
                "    info[sub]=mne.create_info(n_channels[sub],sfreq=s_freq)\r\n",
                "    raw[sub]=mne.io.RawArray(X[sub],info[sub])"
            ],
            "outputs": [
                {
                    "output_type": "stream",
                    "name": "stdout",
                    "text": [
                        "Creating RawArray with float64 data, n_channels=46, n_times=376600\n",
                        "    Range : 0 ... 376599 =      0.000 ...   376.599 secs\n",
                        "Ready.\n",
                        "Creating RawArray with float64 data, n_channels=64, n_times=390320\n",
                        "    Range : 0 ... 390319 =      0.000 ...   390.319 secs\n",
                        "Ready.\n",
                        "Creating RawArray with float64 data, n_channels=48, n_times=390200\n",
                        "    Range : 0 ... 390199 =      0.000 ...   390.199 secs\n",
                        "Ready.\n",
                        "Creating RawArray with float64 data, n_channels=64, n_times=390160\n",
                        "    Range : 0 ... 390159 =      0.000 ...   390.159 secs\n",
                        "Ready.\n",
                        "Creating RawArray with float64 data, n_channels=64, n_times=390200\n",
                        "    Range : 0 ... 390199 =      0.000 ...   390.199 secs\n",
                        "Ready.\n",
                        "Creating RawArray with float64 data, n_channels=64, n_times=390920\n",
                        "    Range : 0 ... 390919 =      0.000 ...   390.919 secs\n",
                        "Ready.\n"
                    ]
                }
            ],
            "metadata": {}
        },
        {
            "cell_type": "code",
            "execution_count": 4,
            "source": [
                "for sub in subjects:\r\n",
                "    ts=events_ts[sub]\r\n",
                "    events[sub]=np.empty((0,3),int)\r\n",
                "    i=0\r\n",
                "    events[sub]=np.append(events[sub],np.array([[i+1,0,ts[i][0]]]),axis=0)\r\n",
                "    for i in range (1,len(ts)):\r\n",
                "        if (ts[i]!=ts[i-1]):\r\n",
                "            events[sub]=np.append(events[sub],np.array([[i+1,0,ts[i][0]]]),axis=0)"
            ],
            "outputs": [],
            "metadata": {}
        },
        {
            "cell_type": "code",
            "execution_count": 5,
            "source": [
                "event_dict = dict(A=11, B=12, Rest=0)"
            ],
            "outputs": [],
            "metadata": {}
        },
        {
            "cell_type": "code",
            "execution_count": 7,
            "source": [
                "for sub in subjects:\r\n",
                "    epochs[sub]=mne.Epochs(raw[sub],events[sub],event_id=event_dict, tmin=-0.5) #add tmin and tmax, update start if needed "
            ],
            "outputs": [
                {
                    "output_type": "stream",
                    "name": "stdout",
                    "text": [
                        "Not setting metadata\n",
                        "Not setting metadata\n",
                        "121 matching events found\n",
                        "Setting baseline interval to [-0.5, 0.0] sec\n",
                        "Applying baseline correction (mode: mean)\n",
                        "0 projection items activated\n",
                        "Not setting metadata\n",
                        "Not setting metadata\n",
                        "121 matching events found\n",
                        "Setting baseline interval to [-0.5, 0.0] sec\n",
                        "Applying baseline correction (mode: mean)\n",
                        "0 projection items activated\n",
                        "Not setting metadata\n",
                        "Not setting metadata\n",
                        "121 matching events found\n",
                        "Setting baseline interval to [-0.5, 0.0] sec\n",
                        "Applying baseline correction (mode: mean)\n",
                        "0 projection items activated\n",
                        "Not setting metadata\n",
                        "Not setting metadata\n",
                        "121 matching events found\n",
                        "Setting baseline interval to [-0.5, 0.0] sec\n",
                        "Applying baseline correction (mode: mean)\n",
                        "0 projection items activated\n",
                        "Not setting metadata\n",
                        "Not setting metadata\n",
                        "121 matching events found\n",
                        "Setting baseline interval to [-0.5, 0.0] sec\n",
                        "Applying baseline correction (mode: mean)\n",
                        "0 projection items activated\n",
                        "Not setting metadata\n",
                        "Not setting metadata\n",
                        "121 matching events found\n",
                        "Setting baseline interval to [-0.5, 0.0] sec\n",
                        "Applying baseline correction (mode: mean)\n",
                        "0 projection items activated\n"
                    ]
                }
            ],
            "metadata": {}
        },
        {
            "cell_type": "code",
            "execution_count": 8,
            "source": [
                "np=epochs['bp'].get_data()*1000         #need to resample or tune window"
            ],
            "outputs": [
                {
                    "output_type": "stream",
                    "name": "stdout",
                    "text": [
                        "Loading data for 121 events and 1001 original time points ...\n",
                        "1 bad epochs dropped\n"
                    ]
                }
            ],
            "metadata": {}
        },
        {
            "cell_type": "code",
            "execution_count": null,
            "source": [],
            "outputs": [],
            "metadata": {}
        }
    ],
    "metadata": {
        "orig_nbformat": 4,
        "language_info": {
            "name": "python",
            "version": "3.8.10",
            "mimetype": "text/x-python",
            "codemirror_mode": {
                "name": "ipython",
                "version": 3
            },
            "pygments_lexer": "ipython3",
            "nbconvert_exporter": "python",
            "file_extension": ".py"
        },
        "kernelspec": {
            "name": "python3",
            "display_name": "Python 3.8.10 64-bit ('ecog': conda)"
        },
        "interpreter": {
            "hash": "0663cc8a2ebfa104e819d48d008a626a361aa8dd1125e760bdac99877362df7c"
        }
    },
    "nbformat": 4,
    "nbformat_minor": 2
}