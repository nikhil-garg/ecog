{
    "cells": [
        {
            "cell_type": "code",
            "execution_count": 1,
            "source": [
                "import numpy as np \r\n",
                "import pandas as pd \r\n",
                "import matplotlib.pyplot as plt \r\n",
                "import os\r\n",
                "pd.pandas.set_option('display.max_columns', None)\r\n",
                "\r\n",
                "raw={}\r\n",
                "X={}\r\n",
                "events={}\r\n",
                "electrodes={}"
            ],
            "outputs": [],
            "metadata": {}
        },
        {
            "cell_type": "code",
            "execution_count": 2,
            "source": [
                "subjects=['bp','fp','jc','jm','rh','rr']\r\n"
            ],
            "outputs": [],
            "metadata": {}
        },
        {
            "cell_type": "code",
            "execution_count": 3,
            "source": [
                "path=os.path.abspath(os.path.join(os.path.dirname(\" __file__\" ), '..', 'imagery_basic_npz'))\r\n",
                "for sub in subjects:\r\n",
                "    raw[sub]=np.load(path+\"/\"+sub+\"_im.npz\")\r\n",
                "    X[sub]=raw[sub]['X']\r\n",
                "    events[sub]=raw[sub]['events']\r\n",
                "    electrodes[sub]=raw[sub]['electrodes']"
            ],
            "outputs": [],
            "metadata": {}
        },
        {
            "cell_type": "code",
            "execution_count": null,
            "source": [],
            "outputs": [],
            "metadata": {}
        }
    ],
    "metadata": {
        "orig_nbformat": 4,
        "language_info": {
            "name": "python",
            "version": "3.8.5",
            "mimetype": "text/x-python",
            "codemirror_mode": {
                "name": "ipython",
                "version": 3
            },
            "pygments_lexer": "ipython3",
            "nbconvert_exporter": "python",
            "file_extension": ".py"
        },
        "kernelspec": {
            "name": "python3",
            "display_name": "Python 3.8.5 64-bit ('ecog': conda)"
        },
        "interpreter": {
            "hash": "0663cc8a2ebfa104e819d48d008a626a361aa8dd1125e760bdac99877362df7c"
        }
    },
    "nbformat": 4,
    "nbformat_minor": 2
}